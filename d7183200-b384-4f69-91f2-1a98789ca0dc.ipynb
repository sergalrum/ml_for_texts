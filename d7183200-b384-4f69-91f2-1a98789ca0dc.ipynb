{
 "cells": [
  {
   "cell_type": "markdown",
   "metadata": {
    "toc": true
   },
   "source": [
    "<h1>Содержание<span class=\"tocSkip\"></span></h1>\n",
    "<div class=\"toc\"><ul class=\"toc-item\"><li><span><a href=\"#Подготовка\" data-toc-modified-id=\"Подготовка-1\"><span class=\"toc-item-num\">1&nbsp;&nbsp;</span>Подготовка</a></span><ul class=\"toc-item\"><li><span><a href=\"#Бибилиотеки\" data-toc-modified-id=\"Бибилиотеки-1.1\"><span class=\"toc-item-num\">1.1&nbsp;&nbsp;</span>Бибилиотеки</a></span></li><li><span><a href=\"#Откроем-и-изучим-файлы\" data-toc-modified-id=\"Откроем-и-изучим-файлы-1.2\"><span class=\"toc-item-num\">1.2&nbsp;&nbsp;</span>Откроем и изучим файлы</a></span><ul class=\"toc-item\"><li><span><a href=\"#Общая-информация\" data-toc-modified-id=\"Общая-информация-1.2.1\"><span class=\"toc-item-num\">1.2.1&nbsp;&nbsp;</span>Общая информация</a></span></li></ul></li><li><span><a href=\"#Вывод-по-итогу-изучения-данных\" data-toc-modified-id=\"Вывод-по-итогу-изучения-данных-1.3\"><span class=\"toc-item-num\">1.3&nbsp;&nbsp;</span>Вывод по итогу изучения данных</a></span></li><li><span><a href=\"#Подготовим-данные\" data-toc-modified-id=\"Подготовим-данные-1.4\"><span class=\"toc-item-num\">1.4&nbsp;&nbsp;</span>Подготовим данные</a></span><ul class=\"toc-item\"><li><span><a href=\"#Лемматизируем-и-очистим-текст\" data-toc-modified-id=\"Лемматизируем-и-очистим-текст-1.4.1\"><span class=\"toc-item-num\">1.4.1&nbsp;&nbsp;</span>Лемматизируем и очистим текст</a></span></li><li><span><a href=\"#Разделим-выборки\" data-toc-modified-id=\"Разделим-выборки-1.4.2\"><span class=\"toc-item-num\">1.4.2&nbsp;&nbsp;</span>Разделим выборки</a></span></li><li><span><a href=\"#Стоп-слова-и-векторизация-текста\" data-toc-modified-id=\"Стоп-слова-и-векторизация-текста-1.4.3\"><span class=\"toc-item-num\">1.4.3&nbsp;&nbsp;</span>Стоп-слова и векторизация текста</a></span></li></ul></li></ul></li><li><span><a href=\"#Обучение\" data-toc-modified-id=\"Обучение-2\"><span class=\"toc-item-num\">2&nbsp;&nbsp;</span>Обучение</a></span><ul class=\"toc-item\"><li><span><a href=\"#Логистическая-регрессия\" data-toc-modified-id=\"Логистическая-регрессия-2.1\"><span class=\"toc-item-num\">2.1&nbsp;&nbsp;</span>Логистическая регрессия</a></span></li><li><span><a href=\"#Случайный-лес\" data-toc-modified-id=\"Случайный-лес-2.2\"><span class=\"toc-item-num\">2.2&nbsp;&nbsp;</span>Случайный лес</a></span></li><li><span><a href=\"#LightGBM\" data-toc-modified-id=\"LightGBM-2.3\"><span class=\"toc-item-num\">2.3&nbsp;&nbsp;</span>LightGBM</a></span></li><li><span><a href=\"#Тестирование-моделей\" data-toc-modified-id=\"Тестирование-моделей-2.4\"><span class=\"toc-item-num\">2.4&nbsp;&nbsp;</span>Тестирование моделей</a></span><ul class=\"toc-item\"><li><span><a href=\"#Линейная-регрессия\" data-toc-modified-id=\"Линейная-регрессия-2.4.1\"><span class=\"toc-item-num\">2.4.1&nbsp;&nbsp;</span>Линейная регрессия</a></span></li><li><span><a href=\"#Случайный-лес\" data-toc-modified-id=\"Случайный-лес-2.4.2\"><span class=\"toc-item-num\">2.4.2&nbsp;&nbsp;</span>Случайный лес</a></span></li><li><span><a href=\"#LightGBM\" data-toc-modified-id=\"LightGBM-2.4.3\"><span class=\"toc-item-num\">2.4.3&nbsp;&nbsp;</span>LightGBM</a></span></li></ul></li><li><span><a href=\"#Проверка-адекватности-модели\" data-toc-modified-id=\"Проверка-адекватности-модели-2.5\"><span class=\"toc-item-num\">2.5&nbsp;&nbsp;</span>Проверка адекватности модели</a></span></li></ul></li><li><span><a href=\"#Выводы\" data-toc-modified-id=\"Выводы-3\"><span class=\"toc-item-num\">3&nbsp;&nbsp;</span>Выводы</a></span><ul class=\"toc-item\"><li><span><a href=\"#Итоговый-вывод\" data-toc-modified-id=\"Итоговый-вывод-3.1\"><span class=\"toc-item-num\">3.1&nbsp;&nbsp;</span>Итоговый вывод</a></span></li></ul></li><li><span><a href=\"#Чек-лист-проверки\" data-toc-modified-id=\"Чек-лист-проверки-4\"><span class=\"toc-item-num\">4&nbsp;&nbsp;</span>Чек-лист проверки</a></span></li></ul></div>"
   ]
  },
  {
   "cell_type": "markdown",
   "metadata": {},
   "source": [
    "# Проект для «Викишоп»"
   ]
  },
  {
   "cell_type": "markdown",
   "metadata": {},
   "source": [
    "Интернет-магазин «Викишоп» запускает новый сервис. Теперь пользователи могут редактировать и дополнять описания товаров, как в вики-сообществах. То есть клиенты предлагают свои правки и комментируют изменения других. Магазину нужен инструмент, который будет искать токсичные комментарии и отправлять их на модерацию. \n",
    "\n",
    "Обучите модель классифицировать комментарии на позитивные и негативные. В вашем распоряжении набор данных с разметкой о токсичности правок.\n",
    "\n",
    "Постройте модель со значением метрики качества *F1* не меньше 0.75. \n",
    "\n",
    "**Инструкция по выполнению проекта**\n",
    "\n",
    "1. Загрузите и подготовьте данные.\n",
    "2. Обучите разные модели. \n",
    "3. Сделайте выводы.\n",
    "\n",
    "Для выполнения проекта применять *BERT* необязательно, но вы можете попробовать.\n",
    "\n",
    "**Описание данных**\n",
    "\n",
    "Данные находятся в файле `toxic_comments.csv`. Столбец *text* в нём содержит текст комментария, а *toxic* — целевой признак."
   ]
  },
  {
   "cell_type": "markdown",
   "metadata": {},
   "source": [
    "## Подготовка"
   ]
  },
  {
   "cell_type": "markdown",
   "metadata": {},
   "source": [
    "### Бибилиотеки"
   ]
  },
  {
   "cell_type": "code",
   "execution_count": 1,
   "metadata": {},
   "outputs": [],
   "source": [
    "# подготавливаем рабочее пространство,\n",
    "# загружаем библиотеки\n",
    "import pandas as pd\n",
    "import numpy as np\n",
    "import matplotlib.pyplot as plt\n",
    "import seaborn as sns\n",
    "\n",
    "import nltk\n",
    "from nltk.corpus import stopwords as nltk_stopwords, wordnet\n",
    "from sklearn.feature_extraction.text import TfidfVectorizer\n",
    "import re\n",
    "import torch\n",
    "import transformers\n",
    "from tqdm import notebook\n",
    "from pymystem3 import Mystem\n",
    "from nltk.stem import WordNetLemmatizer\n",
    "from tqdm import tqdm\n",
    "# from nltk.corpus import wordnet\n",
    "\n",
    "from sklearn.model_selection import cross_val_score, train_test_split, GridSearchCV\n",
    "from sklearn.linear_model import LogisticRegression\n",
    "from sklearn.ensemble import RandomForestClassifier\n",
    "from sklearn.metrics import accuracy_score, f1_score\n",
    "\n",
    "pd.set_option('display.max_columns', None)"
   ]
  },
  {
   "cell_type": "code",
   "execution_count": 2,
   "metadata": {},
   "outputs": [],
   "source": [
    "%%capture\n",
    "\n",
    "# !pip install category_encoders\n",
    "# import category_encoders as ce\n",
    "\n",
    "# !pip install catboost\n",
    "# from catboost import CatBoostRegressor\n",
    "\n",
    "# !pip install lightgbm\n",
    "import lightgbm as lgb\n",
    "from lightgbm import LGBMClassifier"
   ]
  },
  {
   "cell_type": "code",
   "execution_count": 3,
   "metadata": {},
   "outputs": [],
   "source": [
    "### Знаю, что лучше без пробелов и отдельно загружать,\n",
    "###    но это рационализация процесса для тренажера, которму надо постоянно заного загружать"
   ]
  },
  {
   "cell_type": "markdown",
   "metadata": {},
   "source": [
    "### Откроем и изучим файлы"
   ]
  },
  {
   "cell_type": "markdown",
   "metadata": {},
   "source": [
    "#### Общая информация"
   ]
  },
  {
   "cell_type": "code",
   "execution_count": 4,
   "metadata": {},
   "outputs": [],
   "source": [
    "try:\n",
    "    df = pd.read_csv(r'/datasets/toxic_comments.csv')\n",
    "except:\n",
    "    df = pd.read_csv(r'toxic_comments.csv')"
   ]
  },
  {
   "cell_type": "code",
   "execution_count": 5,
   "metadata": {},
   "outputs": [],
   "source": [
    "RANDOM_STATE = 42"
   ]
  },
  {
   "cell_type": "code",
   "execution_count": 6,
   "metadata": {},
   "outputs": [],
   "source": [
    "# df = df.sample(4000, random_state=RANDOM_STATE).reset_index(drop=True) # объекты для отладки."
   ]
  },
  {
   "cell_type": "code",
   "execution_count": 7,
   "metadata": {},
   "outputs": [
    {
     "name": "stdout",
     "output_type": "stream",
     "text": [
      "<class 'pandas.core.frame.DataFrame'>\n",
      "RangeIndex: 159292 entries, 0 to 159291\n",
      "Data columns (total 3 columns):\n",
      " #   Column      Non-Null Count   Dtype \n",
      "---  ------      --------------   ----- \n",
      " 0   Unnamed: 0  159292 non-null  int64 \n",
      " 1   text        159292 non-null  object\n",
      " 2   toxic       159292 non-null  int64 \n",
      "dtypes: int64(2), object(1)\n",
      "memory usage: 3.6+ MB\n"
     ]
    },
    {
     "data": {
      "text/plain": [
       "None"
      ]
     },
     "metadata": {},
     "output_type": "display_data"
    },
    {
     "data": {
      "text/html": [
       "<div>\n",
       "<style scoped>\n",
       "    .dataframe tbody tr th:only-of-type {\n",
       "        vertical-align: middle;\n",
       "    }\n",
       "\n",
       "    .dataframe tbody tr th {\n",
       "        vertical-align: top;\n",
       "    }\n",
       "\n",
       "    .dataframe thead th {\n",
       "        text-align: right;\n",
       "    }\n",
       "</style>\n",
       "<table border=\"1\" class=\"dataframe\">\n",
       "  <thead>\n",
       "    <tr style=\"text-align: right;\">\n",
       "      <th></th>\n",
       "      <th>Unnamed: 0</th>\n",
       "      <th>text</th>\n",
       "      <th>toxic</th>\n",
       "    </tr>\n",
       "  </thead>\n",
       "  <tbody>\n",
       "    <tr>\n",
       "      <th>0</th>\n",
       "      <td>0</td>\n",
       "      <td>Explanation\\nWhy the edits made under my usern...</td>\n",
       "      <td>0</td>\n",
       "    </tr>\n",
       "    <tr>\n",
       "      <th>1</th>\n",
       "      <td>1</td>\n",
       "      <td>D'aww! He matches this background colour I'm s...</td>\n",
       "      <td>0</td>\n",
       "    </tr>\n",
       "    <tr>\n",
       "      <th>2</th>\n",
       "      <td>2</td>\n",
       "      <td>Hey man, I'm really not trying to edit war. It...</td>\n",
       "      <td>0</td>\n",
       "    </tr>\n",
       "    <tr>\n",
       "      <th>3</th>\n",
       "      <td>3</td>\n",
       "      <td>\"\\nMore\\nI can't make any real suggestions on ...</td>\n",
       "      <td>0</td>\n",
       "    </tr>\n",
       "    <tr>\n",
       "      <th>4</th>\n",
       "      <td>4</td>\n",
       "      <td>You, sir, are my hero. Any chance you remember...</td>\n",
       "      <td>0</td>\n",
       "    </tr>\n",
       "  </tbody>\n",
       "</table>\n",
       "</div>"
      ],
      "text/plain": [
       "   Unnamed: 0                                               text  toxic\n",
       "0           0  Explanation\\nWhy the edits made under my usern...      0\n",
       "1           1  D'aww! He matches this background colour I'm s...      0\n",
       "2           2  Hey man, I'm really not trying to edit war. It...      0\n",
       "3           3  \"\\nMore\\nI can't make any real suggestions on ...      0\n",
       "4           4  You, sir, are my hero. Any chance you remember...      0"
      ]
     },
     "metadata": {},
     "output_type": "display_data"
    }
   ],
   "source": [
    "display(df.info())\n",
    "display(df.head(5))"
   ]
  },
  {
   "cell_type": "code",
   "execution_count": 8,
   "metadata": {},
   "outputs": [],
   "source": [
    "df = df.drop('Unnamed: 0', axis=1)"
   ]
  },
  {
   "cell_type": "code",
   "execution_count": 9,
   "metadata": {
    "scrolled": true
   },
   "outputs": [
    {
     "data": {
      "text/plain": [
       "text     0.0\n",
       "toxic    0.0\n",
       "dtype: float64"
      ]
     },
     "execution_count": 9,
     "metadata": {},
     "output_type": "execute_result"
    }
   ],
   "source": [
    "round(df.isna().sum() / len(df) * 100, 2)"
   ]
  },
  {
   "cell_type": "code",
   "execution_count": 10,
   "metadata": {},
   "outputs": [
    {
     "data": {
      "text/plain": [
       "0"
      ]
     },
     "execution_count": 10,
     "metadata": {},
     "output_type": "execute_result"
    }
   ],
   "source": [
    "# Проверим явные дубликаты по времени\n",
    "df.index.duplicated().sum()"
   ]
  },
  {
   "cell_type": "code",
   "execution_count": 11,
   "metadata": {},
   "outputs": [
    {
     "data": {
      "image/png": "[encoded data removed]",
      "text/plain": [
       "<Figure size 396x396 with 1 Axes>"
      ]
     },
     "metadata": {},
     "output_type": "display_data"
    }
   ],
   "source": [
    "# проверяем распределение классов\n",
    "df['toxic'].value_counts(normalize=True).plot(kind='pie',figsize=[5.5,5.5],\n",
    "                                                legend=False, autopct='%1.1f%%',\n",
    "                                                labels=['Отзыв токсичный, класс [0]','Отзыв не токсичный, класс [1]'])\n",
    "plt.title('Баланс распределения классов в данных')\n",
    "plt.ylabel('')\n",
    "plt.show()"
   ]
  },
  {
   "cell_type": "markdown",
   "metadata": {},
   "source": [
    "### Вывод по итогу изучения данных\n",
    "Язык текста английский\n",
    "\n",
    "- Пропуски отсутствуют\n",
    "- Дубликаты по времени отсутствуют\n",
    "- Неинформативные столбцы удалены\n",
    "- Борьба с дисбалансом необходима (можно провести уменьшение, ввиду большой выборки, но я использую взвешивание классов)"
   ]
  },
  {
   "cell_type": "markdown",
   "metadata": {},
   "source": [
    "### Подготовим данные"
   ]
  },
  {
   "cell_type": "markdown",
   "metadata": {},
   "source": [
    "#### Лемматизируем и очистим текст"
   ]
  },
  {
   "cell_type": "code",
   "execution_count": 12,
   "metadata": {},
   "outputs": [
    {
     "name": "stdout",
     "output_type": "stream",
     "text": [
      "Explanation\n",
      "Why the edits made under my username Hardcore Metallica Fan were reverted? They weren't vandalisms, just closure on some GAs after I voted at New York Dolls FAC. And please don't remove the template from the talk page since I'm retired now.89.205.38.27\n"
     ]
    }
   ],
   "source": [
    "# Объявим корпус текстов, переведем его в тип юникод\n",
    "\n",
    "corpus = list(df['text'])\n",
    "print(corpus[0])"
   ]
  },
  {
   "cell_type": "code",
   "execution_count": 13,
   "metadata": {},
   "outputs": [
    {
     "name": "stderr",
     "output_type": "stream",
     "text": [
      "[nltk_data] Downloading package stopwords to /home/jovyan/nltk_data...\n",
      "[nltk_data]   Package stopwords is already up-to-date!\n"
     ]
    }
   ],
   "source": [
    "nltk.download('stopwords')\n",
    "stopwords = set(nltk_stopwords.words('english'))"
   ]
  },
  {
   "cell_type": "code",
   "execution_count": 14,
   "metadata": {},
   "outputs": [
    {
     "name": "stderr",
     "output_type": "stream",
     "text": [
      "[nltk_data] Downloading package averaged_perceptron_tagger to\n",
      "[nltk_data]     /home/jovyan/nltk_data...\n",
      "[nltk_data]   Package averaged_perceptron_tagger is already up-to-\n",
      "[nltk_data]       date!\n"
     ]
    },
    {
     "data": {
      "text/plain": [
       "True"
      ]
     },
     "execution_count": 14,
     "metadata": {},
     "output_type": "execute_result"
    }
   ],
   "source": [
    "nltk.download('averaged_perceptron_tagger')"
   ]
  },
  {
   "cell_type": "code",
   "execution_count": 15,
   "metadata": {},
   "outputs": [],
   "source": [
    "# # Объявим лемматизатор\n",
    "# wnl = WordNetLemmatizer()\n",
    "\n",
    "# # Функция для очистки и лемматизации текстов\n",
    "# def clear_lemmatize_text(text):\n",
    "#     pattern = re.sub(r'[^a-zA-Z]', ' ', text)\n",
    "#     clear = pattern.split()\n",
    "#     lemm = []\n",
    "#     for i in range(len(clear)):\n",
    "#         lemm.append(wnl.lemmatize(clear[i]))\n",
    "#     return \" \".join(lemm)"
   ]
  },
  {
   "cell_type": "code",
   "execution_count": 16,
   "metadata": {},
   "outputs": [],
   "source": [
    "wnl = WordNetLemmatizer()"
   ]
  },
  {
   "cell_type": "code",
   "execution_count": 17,
   "metadata": {},
   "outputs": [],
   "source": [
    "def clear_text(text):\n",
    "    y=re.sub(r\"[^'a-zA-Z ]\", ' ', text) \n",
    "    k=\" \".join(y.split())\n",
    "    return k\n",
    "\n",
    "\n",
    "def get_wordnet_pos(word):\n",
    "    tag = nltk.pos_tag([word])[0][1][0].upper()\n",
    "    tag_dict = {\"J\": wordnet.ADJ,\n",
    "                \"N\": wordnet.NOUN,\n",
    "                \"V\": wordnet.VERB,\n",
    "                \"R\": wordnet.ADV}\n",
    "    return tag_dict.get(tag, wordnet.NOUN)\n",
    "\n",
    "def lemmafunction(textc):\n",
    "    k=[]\n",
    "    for i in nltk.word_tokenize(textc):\n",
    "        y=wnl.lemmatize(i, get_wordnet_pos(i))\n",
    "        k.append(y)\n",
    "    return ' '.join(k)"
   ]
  },
  {
   "cell_type": "code",
   "execution_count": 18,
   "metadata": {},
   "outputs": [
    {
     "name": "stdout",
     "output_type": "stream",
     "text": [
      "CPU times: user 19min 8s, sys: 1min 48s, total: 20min 56s\n",
      "Wall time: 20min 58s\n"
     ]
    }
   ],
   "source": [
    "%%time\n",
    "\n",
    "corpus = df['text'].apply(clear_text).apply(lemmafunction).str.lower()"
   ]
  },
  {
   "cell_type": "code",
   "execution_count": 20,
   "metadata": {},
   "outputs": [
    {
     "data": {
      "text/html": [
       "<div>\n",
       "<style scoped>\n",
       "    .dataframe tbody tr th:only-of-type {\n",
       "        vertical-align: middle;\n",
       "    }\n",
       "\n",
       "    .dataframe tbody tr th {\n",
       "        vertical-align: top;\n",
       "    }\n",
       "\n",
       "    .dataframe thead th {\n",
       "        text-align: right;\n",
       "    }\n",
       "</style>\n",
       "<table border=\"1\" class=\"dataframe\">\n",
       "  <thead>\n",
       "    <tr style=\"text-align: right;\">\n",
       "      <th></th>\n",
       "      <th>text</th>\n",
       "      <th>toxic</th>\n",
       "      <th>lemm_text</th>\n",
       "    </tr>\n",
       "  </thead>\n",
       "  <tbody>\n",
       "    <tr>\n",
       "      <th>0</th>\n",
       "      <td>Explanation\\nWhy the edits made under my usern...</td>\n",
       "      <td>0</td>\n",
       "      <td>explanation why the edits make under my userna...</td>\n",
       "    </tr>\n",
       "    <tr>\n",
       "      <th>1</th>\n",
       "      <td>D'aww! He matches this background colour I'm s...</td>\n",
       "      <td>0</td>\n",
       "      <td>d'aww he match this background colour i 'm see...</td>\n",
       "    </tr>\n",
       "    <tr>\n",
       "      <th>2</th>\n",
       "      <td>Hey man, I'm really not trying to edit war. It...</td>\n",
       "      <td>0</td>\n",
       "      <td>hey man i 'm really not try to edit war it 's ...</td>\n",
       "    </tr>\n",
       "    <tr>\n",
       "      <th>3</th>\n",
       "      <td>\"\\nMore\\nI can't make any real suggestions on ...</td>\n",
       "      <td>0</td>\n",
       "      <td>more i ca n't make any real suggestion on impr...</td>\n",
       "    </tr>\n",
       "    <tr>\n",
       "      <th>4</th>\n",
       "      <td>You, sir, are my hero. Any chance you remember...</td>\n",
       "      <td>0</td>\n",
       "      <td>you sir be my hero any chance you remember wha...</td>\n",
       "    </tr>\n",
       "  </tbody>\n",
       "</table>\n",
       "</div>"
      ],
      "text/plain": [
       "                                                text  toxic  \\\n",
       "0  Explanation\\nWhy the edits made under my usern...      0   \n",
       "1  D'aww! He matches this background colour I'm s...      0   \n",
       "2  Hey man, I'm really not trying to edit war. It...      0   \n",
       "3  \"\\nMore\\nI can't make any real suggestions on ...      0   \n",
       "4  You, sir, are my hero. Any chance you remember...      0   \n",
       "\n",
       "                                           lemm_text  \n",
       "0  explanation why the edits make under my userna...  \n",
       "1  d'aww he match this background colour i 'm see...  \n",
       "2  hey man i 'm really not try to edit war it 's ...  \n",
       "3  more i ca n't make any real suggestion on impr...  \n",
       "4  you sir be my hero any chance you remember wha...  "
      ]
     },
     "execution_count": 20,
     "metadata": {},
     "output_type": "execute_result"
    }
   ],
   "source": [
    "# Объединим датасет и корпус:\n",
    "\n",
    "df_corpus = pd.Series(corpus, index=df.index)\n",
    "df['lemm_text'] = df_corpus\n",
    "df.head(5)"
   ]
  },
  {
   "cell_type": "markdown",
   "metadata": {},
   "source": [
    "#### Разделим выборки"
   ]
  },
  {
   "cell_type": "code",
   "execution_count": 21,
   "metadata": {},
   "outputs": [],
   "source": [
    "X = df['lemm_text']\n",
    "y = df['toxic']"
   ]
  },
  {
   "cell_type": "code",
   "execution_count": 22,
   "metadata": {},
   "outputs": [],
   "source": [
    "X_train, X_test, y_train, y_test = train_test_split(X, y, test_size=0.2, random_state=42, shuffle=True, stratify=y)"
   ]
  },
  {
   "cell_type": "code",
   "execution_count": 23,
   "metadata": {},
   "outputs": [
    {
     "name": "stdout",
     "output_type": "stream",
     "text": [
      "Размер тренировочной выборки- 80%\n",
      "Размер тестовой выборки - 20%\n"
     ]
    }
   ],
   "source": [
    "train_sample=X_train.shape[0]/X.shape[0]\n",
    "test_sample=X_test.shape[0]/X.shape[0]\n",
    "\n",
    "print('Размер тренировочной выборки- {:.0%}'.format(train_sample))\n",
    "print('Размер тестовой выборки - {:.0%}'.format(test_sample))"
   ]
  },
  {
   "cell_type": "markdown",
   "metadata": {},
   "source": [
    "#### Стоп-слова и векторизация текста"
   ]
  },
  {
   "cell_type": "code",
   "execution_count": 24,
   "metadata": {},
   "outputs": [],
   "source": [
    "# TFIDF-векторизатор\n",
    "count_tf_idf = TfidfVectorizer(stop_words=stopwords)\n",
    "\n",
    "#Выполняю векторизацию текстов\n",
    "X_train = count_tf_idf.fit_transform(X_train)\n",
    "X_test = count_tf_idf.transform(X_test)"
   ]
  },
  {
   "cell_type": "code",
   "execution_count": 25,
   "metadata": {},
   "outputs": [
    {
     "name": "stdout",
     "output_type": "stream",
     "text": [
      "(127433, 139474)\n",
      "(31859, 139474)\n",
      "(127433,)\n",
      "(31859,)\n"
     ]
    }
   ],
   "source": [
    "# Проверим размеры выборок\n",
    "print(X_train.shape)\n",
    "print(X_test.shape)\n",
    "print(y_train.shape)\n",
    "print(y_test.shape)"
   ]
  },
  {
   "cell_type": "markdown",
   "metadata": {},
   "source": [
    "# Ниже блок для берт, но пришлось уехать, переделываю без него"
   ]
  },
  {
   "cell_type": "code",
   "execution_count": 26,
   "metadata": {},
   "outputs": [],
   "source": [
    "# Инициализируем токенизатор \n",
    "# tokenizer = transformers.BertTokenizer(\n",
    "#     vocab_file='/datasets/ds_bert/vocab.txt')"
   ]
  },
  {
   "cell_type": "code",
   "execution_count": 27,
   "metadata": {},
   "outputs": [],
   "source": [
    "# Преобразуем текст в номера токенов\n",
    "# tokenized = df['text'].apply(\n",
    "#     lambda x: tokenizer.encode(x, add_special_tokens=True, padding=True, truncation=True, max_length=512))"
   ]
  },
  {
   "cell_type": "code",
   "execution_count": 28,
   "metadata": {},
   "outputs": [],
   "source": [
    "# max_len = 0\n",
    "# for i in tokenized.values:\n",
    "#     if len(i) > max_len:\n",
    "#         max_len = len(i)\n",
    "# max_len"
   ]
  },
  {
   "cell_type": "code",
   "execution_count": 29,
   "metadata": {},
   "outputs": [],
   "source": [
    "# Применим метод padding\n",
    "# padded = np.array([i + [0]*(max_len - len(i)) for i in tokenized.values])\n",
    "# padded.shape"
   ]
  },
  {
   "cell_type": "code",
   "execution_count": 30,
   "metadata": {},
   "outputs": [],
   "source": [
    "# поясним модели, что нули не несут значимой информации\n",
    "# attention_mask = np.where(padded != 0, 1, 0)\n",
    "# attention_mask.shape"
   ]
  },
  {
   "cell_type": "code",
   "execution_count": 31,
   "metadata": {},
   "outputs": [],
   "source": [
    "# %%time\n",
    "\n",
    "# # Инициализируем модель класса BertModel\n",
    "# config = transformers.BertConfig.from_json_file(\n",
    "#     '/datasets/ds_bert/bert_config.json')\n",
    "# model = transformers.BertModel.from_pretrained(\n",
    "#     '/datasets/ds_bert/rubert_model.bin', config=config)"
   ]
  },
  {
   "cell_type": "markdown",
   "metadata": {},
   "source": [
    "\n",
    "<font color='green'> Для этой задачи существуют специальные модели, например 'unitary/toxic-bert'</font>"
   ]
  },
  {
   "cell_type": "code",
   "execution_count": 32,
   "metadata": {},
   "outputs": [],
   "source": [
    "# # Зададим размер батча \n",
    "# batch_size = 100\n",
    "\n",
    "# # Сделаем цикл по батчам\n",
    "# embeddings = []\n",
    "# for i in notebook.tqdm(range(padded.shape[0] // batch_size)):\n",
    "#         batch = torch.LongTensor(padded[batch_size*i:batch_size*(i+1)]) \n",
    "#         attention_mask_batch = torch.LongTensor(attention_mask[batch_size*i:batch_size*(i+1)])\n",
    "        \n",
    "#         with torch.no_grad():\n",
    "#             batch_embeddings = model(batch, attention_mask=attention_mask_batch)\n",
    "        \n",
    "#         embeddings.append(batch_embeddings[0][:,0,:].numpy())"
   ]
  },
  {
   "cell_type": "code",
   "execution_count": 33,
   "metadata": {},
   "outputs": [],
   "source": [
    "# features = np.concatenate(embeddings)"
   ]
  },
  {
   "cell_type": "code",
   "execution_count": 34,
   "metadata": {},
   "outputs": [],
   "source": [
    "# features.shape"
   ]
  },
  {
   "cell_type": "markdown",
   "metadata": {},
   "source": [
    "## Обучение"
   ]
  },
  {
   "cell_type": "markdown",
   "metadata": {},
   "source": [
    "### Логистическая регрессия "
   ]
  },
  {
   "cell_type": "code",
   "execution_count": 35,
   "metadata": {},
   "outputs": [
    {
     "name": "stdout",
     "output_type": "stream",
     "text": [
      "CPU times: user 1min 11s, sys: 1min 23s, total: 2min 35s\n",
      "Wall time: 2min 35s\n"
     ]
    },
    {
     "data": {
      "text/plain": [
       "GridSearchCV(cv=3,\n",
       "             estimator=LogisticRegression(class_weight='balanced',\n",
       "                                          random_state=42, solver='liblinear'),\n",
       "             param_grid={'C': [0.1, 1, 10]}, scoring='f1')"
      ]
     },
     "execution_count": 35,
     "metadata": {},
     "output_type": "execute_result"
    }
   ],
   "source": [
    "%%time\n",
    "\n",
    "# Логистическая регрессия на кросс-валидации c балансировкой классов\n",
    "regression = LogisticRegression(fit_intercept=True, \n",
    "                                class_weight='balanced', \n",
    "                                random_state=RANDOM_STATE,\n",
    "                                solver='liblinear'\n",
    "                               )\n",
    "# Словарь с набором параметров\n",
    "regression_parametrs = {'C': [0.1, 1, 10]}\n",
    "\n",
    "#Применяю GridSearchCV с кросс-валидацией\n",
    "regression_grid = GridSearchCV(regression, regression_parametrs, scoring='f1', cv=3)\n",
    "regression_grid.fit(X_train, y_train)"
   ]
  },
  {
   "cell_type": "code",
   "execution_count": 36,
   "metadata": {},
   "outputs": [],
   "source": [
    "# regression.fit(X_train, y_train)\n",
    "# regression_cv_score = cross_val_score(regression, X_train, y_train, scoring='f1', cv=3).mean()\n",
    "# print('Среднее качество модели Логистической регрессии на кросс-валидации:', regression_cv_score)"
   ]
  },
  {
   "cell_type": "code",
   "execution_count": 37,
   "metadata": {},
   "outputs": [
    {
     "name": "stdout",
     "output_type": "stream",
     "text": [
      "{'C': 10}\n",
      "0.7609937735009868\n",
      "_______________\n",
      "CPU times: user 1.01 ms, sys: 159 µs, total: 1.17 ms\n",
      "Wall time: 942 µs\n"
     ]
    }
   ],
   "source": [
    "%%time\n",
    "\n",
    "regression_params = regression_grid.best_params_\n",
    "regression_score = regression_grid.best_score_\n",
    "print(regression_params)\n",
    "print(regression_score)\n",
    "print('_______________')"
   ]
  },
  {
   "cell_type": "markdown",
   "metadata": {},
   "source": [
    "### Случайный лес"
   ]
  },
  {
   "cell_type": "code",
   "execution_count": 38,
   "metadata": {},
   "outputs": [
    {
     "name": "stdout",
     "output_type": "stream",
     "text": [
      "CPU times: user 4min 14s, sys: 1.17 s, total: 4min 15s\n",
      "Wall time: 4min 15s\n"
     ]
    },
    {
     "data": {
      "text/plain": [
       "GridSearchCV(cv=3,\n",
       "             estimator=RandomForestClassifier(class_weight='balanced',\n",
       "                                              min_samples_leaf=4, n_jobs=-1),\n",
       "             param_grid={'max_depth': range(6, 28, 10),\n",
       "                         'min_samples_split': range(4, 6, 2),\n",
       "                         'n_estimators': range(25, 36, 5)},\n",
       "             scoring='f1')"
      ]
     },
     "execution_count": 38,
     "metadata": {},
     "output_type": "execute_result"
    }
   ],
   "source": [
    "%%time\n",
    "# Случайный лес на кросс-валидации c балансировкой классов\n",
    "forest = RandomForestClassifier(class_weight='balanced', n_jobs=-1, min_samples_leaf=4)\n",
    "\n",
    "# Словарь с набором параметров\n",
    "forest_parametrs = { 'n_estimators': range(25, 36, 5),\n",
    "                     'max_depth': range(6, 28, 10),\n",
    "#                      'min_samples_leaf': range(3,5),\n",
    "                     'min_samples_split': range(4,6,2)}\n",
    "\n",
    "# GridSearchCV с кросс-валидацией\n",
    "forest_grid = GridSearchCV(forest, forest_parametrs, scoring='f1', cv=3)\n",
    "forest_grid.fit(X_train, y_train)"
   ]
  },
  {
   "cell_type": "code",
   "execution_count": 39,
   "metadata": {
    "scrolled": true
   },
   "outputs": [
    {
     "name": "stdout",
     "output_type": "stream",
     "text": [
      "{'max_depth': 26, 'min_samples_split': 4, 'n_estimators': 35}\n",
      "0.3896095025627826\n",
      "_______________\n",
      "CPU times: user 344 µs, sys: 45 µs, total: 389 µs\n",
      "Wall time: 257 µs\n"
     ]
    }
   ],
   "source": [
    "%%time\n",
    "forest_params = forest_grid.best_params_\n",
    "forest_score = forest_grid.best_score_\n",
    "print(forest_params)\n",
    "print(forest_score)\n",
    "print('_______________')"
   ]
  },
  {
   "cell_type": "markdown",
   "metadata": {},
   "source": [
    "### LightGBM"
   ]
  },
  {
   "cell_type": "code",
   "execution_count": 40,
   "metadata": {},
   "outputs": [
    {
     "name": "stdout",
     "output_type": "stream",
     "text": [
      "CPU times: user 2min 19s, sys: 27.5 ms, total: 2min 19s\n",
      "Wall time: 2min 22s\n"
     ]
    },
    {
     "data": {
      "text/plain": [
       "GridSearchCV(cv=3,\n",
       "             estimator=LGBMClassifier(is_unbalance=True, n_jobs=2, seed=42),\n",
       "             param_grid={'n_estimators': range(56, 57, 3),\n",
       "                         'num_leaves': range(5, 6, 3)},\n",
       "             scoring='f1')"
      ]
     },
     "execution_count": 40,
     "metadata": {},
     "output_type": "execute_result"
    }
   ],
   "source": [
    "%%time\n",
    "\n",
    "# LightGBM на кросс-валидации c балансировкой классов\n",
    "gbm = LGBMClassifier(n_jobs=2,\n",
    "                    seed=RANDOM_STATE,\n",
    "                    is_unbalance = True)\n",
    "gbm_params = {'n_estimators': range(56, 57, 3),\n",
    "              'num_leaves': range(5, 6, 3)}\n",
    "\n",
    "gbm_grid = GridSearchCV(gbm, gbm_params, cv=3, scoring='f1')\n",
    "gbm_grid.fit(X_train, y_train);"
   ]
  },
  {
   "cell_type": "code",
   "execution_count": 41,
   "metadata": {
    "scrolled": true
   },
   "outputs": [
    {
     "name": "stdout",
     "output_type": "stream",
     "text": [
      "{'n_estimators': 56, 'num_leaves': 5}\n",
      "0.6734847140702559\n",
      "_______________\n",
      "CPU times: user 362 µs, sys: 43 µs, total: 405 µs\n",
      "Wall time: 431 µs\n"
     ]
    }
   ],
   "source": [
    "%%time\n",
    "\n",
    "gbm_params = gbm_grid.best_params_\n",
    "gbm_score = gbm_grid.best_score_\n",
    "print(gbm_params)\n",
    "print(gbm_score)\n",
    "print('_______________')"
   ]
  },
  {
   "cell_type": "markdown",
   "metadata": {},
   "source": [
    "### Тестирование моделей\n",
    "\n",
    "Все делают по разному, в данном проекте проверяют не на лучше модели, тк по заданию не обязательно проверять на одной. А сравнить несколько результатов я считаю более объективными. Я не считаю это подстраиванием под конкретный тест, я рассматриваю это, как возможность оценить модель на практических значениях, а не на обучаемых.\n",
    "\n",
    "Можно для это использвовать валидационную выборку, но это уменьшит тренировочную базу.\n",
    "\n",
    "(Прошу прощения за этот текст, для некоторых ревьюеров это критично и просят исправить)"
   ]
  },
  {
   "cell_type": "code",
   "execution_count": 42,
   "metadata": {},
   "outputs": [],
   "source": [
    "result=[]"
   ]
  },
  {
   "cell_type": "markdown",
   "metadata": {},
   "source": [
    "#### Линейная регрессия"
   ]
  },
  {
   "cell_type": "code",
   "execution_count": 43,
   "metadata": {
    "scrolled": true
   },
   "outputs": [
    {
     "name": "stdout",
     "output_type": "stream",
     "text": [
      "CPU times: user 12 s, sys: 12.9 s, total: 24.9 s\n",
      "Wall time: 26.4 s\n"
     ]
    },
    {
     "data": {
      "text/plain": [
       "LogisticRegression(C=10, class_weight='balanced', random_state=42,\n",
       "                   solver='liblinear')"
      ]
     },
     "execution_count": 43,
     "metadata": {},
     "output_type": "execute_result"
    }
   ],
   "source": [
    "%%time\n",
    "\n",
    "regression_model = LogisticRegression(fit_intercept=True,\n",
    "                                class_weight='balanced',\n",
    "                                random_state=RANDOM_STATE,\n",
    "                                solver='liblinear',\n",
    "                                C=regression_params['C']\n",
    "                               )\n",
    "\n",
    "regression_model.fit(X_train, y_train)"
   ]
  },
  {
   "cell_type": "code",
   "execution_count": 44,
   "metadata": {
    "scrolled": true
   },
   "outputs": [
    {
     "name": "stdout",
     "output_type": "stream",
     "text": [
      "Метрика F1 качества предсказания модели `Линейной регреессии` равна: 0.759\n"
     ]
    }
   ],
   "source": [
    "regression_predictions = regression_model.predict(X_test)\n",
    "regression_f1 = round(f1_score(y_test, regression_predictions), 3) \n",
    "\n",
    "print(f\"Метрика F1 качества предсказания модели `Линейной регреессии` равна: {regression_f1}\")\n",
    "result.append(['Линейная регрессия', regression_f1])"
   ]
  },
  {
   "cell_type": "markdown",
   "metadata": {},
   "source": [
    "#### Случайный лес"
   ]
  },
  {
   "cell_type": "code",
   "execution_count": 45,
   "metadata": {},
   "outputs": [
    {
     "name": "stdout",
     "output_type": "stream",
     "text": [
      "CPU times: user 4.86 s, sys: 11.8 ms, total: 4.87 s\n",
      "Wall time: 4.9 s\n"
     ]
    }
   ],
   "source": [
    "%%time\n",
    "\n",
    "forest_model = RandomForestClassifier(random_state=RANDOM_STATE, n_jobs=-1, class_weight='balanced',\n",
    "                                     max_depth=forest_params['max_depth'],\n",
    "#                                      min_samples_leaf = forest_params['min_samples_leaf'],\n",
    "                                     min_samples_split = forest_params['min_samples_split'],\n",
    "                                     n_estimators = forest_params['n_estimators'])\n",
    "\n",
    "forest_model.fit(X_train, y_train)\n",
    "forest_model_predictions = forest_model.predict(X_test)"
   ]
  },
  {
   "cell_type": "code",
   "execution_count": 46,
   "metadata": {},
   "outputs": [
    {
     "name": "stdout",
     "output_type": "stream",
     "text": [
      "Метрика F1 качества предсказания модели `Случайный лес` равна: 0.395\n"
     ]
    }
   ],
   "source": [
    "forest_predictions = forest_model.predict(X_test)\n",
    "forest_f1 =  round(f1_score(y_test, forest_predictions), 3)\n",
    "\n",
    "print(f\"Метрика F1 качества предсказания модели `Случайный лес` равна: {forest_f1}\")\n",
    "result.append(['Случайный лес', forest_f1])"
   ]
  },
  {
   "cell_type": "markdown",
   "metadata": {},
   "source": [
    "#### LightGBM"
   ]
  },
  {
   "cell_type": "code",
   "execution_count": 47,
   "metadata": {},
   "outputs": [
    {
     "name": "stdout",
     "output_type": "stream",
     "text": [
      "CPU times: user 55.8 s, sys: 0 ns, total: 55.8 s\n",
      "Wall time: 55.8 s\n"
     ]
    },
    {
     "data": {
      "text/plain": [
       "LGBMClassifier(is_unbalance=True, n_estimators=56, n_jobs=2, num_leaves=5,\n",
       "               seed=42)"
      ]
     },
     "execution_count": 47,
     "metadata": {},
     "output_type": "execute_result"
    }
   ],
   "source": [
    "%%time\n",
    "\n",
    "gbm_model = gbm_grid.best_estimator_\n",
    "\n",
    "gbm_model.fit(X_train, y_train)"
   ]
  },
  {
   "cell_type": "code",
   "execution_count": 48,
   "metadata": {
    "scrolled": true
   },
   "outputs": [
    {
     "name": "stdout",
     "output_type": "stream",
     "text": [
      "Метрика F1 качества предсказания модели `LightGBM` равна: 0.663\n"
     ]
    }
   ],
   "source": [
    "gbm_predictions = gbm_model.predict(X_test)\n",
    "gbm_f1 = round(f1_score(y_test, gbm_predictions), 3) \n",
    "\n",
    "print(f\"Метрика F1 качества предсказания модели `LightGBM` равна: {gbm_f1}\")\n",
    "result.append(['LightGBM', gbm_f1])"
   ]
  },
  {
   "cell_type": "markdown",
   "metadata": {},
   "source": [
    "### Проверка адекватности модели\n"
   ]
  },
  {
   "cell_type": "markdown",
   "metadata": {},
   "source": [
    "Поскольку присутствует явный мажорный класс, проведем оценку адекватности на статичной модели"
   ]
  },
  {
   "cell_type": "code",
   "execution_count": 49,
   "metadata": {},
   "outputs": [
    {
     "name": "stdout",
     "output_type": "stream",
     "text": [
      "0.18446546614998857\n"
     ]
    }
   ],
   "source": [
    "stat_model = [1 for i in range(len(y_test))]\n",
    "stat_f1 = f1_score(y_test.reset_index(drop=True), stat_model)\n",
    "print(stat_f1)\n",
    "result.append(['Stat model', stat_f1])"
   ]
  },
  {
   "cell_type": "markdown",
   "metadata": {},
   "source": [
    "## Выводы"
   ]
  },
  {
   "cell_type": "code",
   "execution_count": 50,
   "metadata": {},
   "outputs": [
    {
     "data": {
      "text/html": [
       "<div>\n",
       "<style scoped>\n",
       "    .dataframe tbody tr th:only-of-type {\n",
       "        vertical-align: middle;\n",
       "    }\n",
       "\n",
       "    .dataframe tbody tr th {\n",
       "        vertical-align: top;\n",
       "    }\n",
       "\n",
       "    .dataframe thead th {\n",
       "        text-align: right;\n",
       "    }\n",
       "</style>\n",
       "<table border=\"1\" class=\"dataframe\">\n",
       "  <thead>\n",
       "    <tr style=\"text-align: right;\">\n",
       "      <th></th>\n",
       "      <th>Модель</th>\n",
       "      <th>F1</th>\n",
       "    </tr>\n",
       "  </thead>\n",
       "  <tbody>\n",
       "    <tr>\n",
       "      <th>0</th>\n",
       "      <td>Линейная регрессия</td>\n",
       "      <td>0.759000</td>\n",
       "    </tr>\n",
       "    <tr>\n",
       "      <th>1</th>\n",
       "      <td>Случайный лес</td>\n",
       "      <td>0.395000</td>\n",
       "    </tr>\n",
       "    <tr>\n",
       "      <th>2</th>\n",
       "      <td>LightGBM</td>\n",
       "      <td>0.663000</td>\n",
       "    </tr>\n",
       "    <tr>\n",
       "      <th>3</th>\n",
       "      <td>Stat model</td>\n",
       "      <td>0.184465</td>\n",
       "    </tr>\n",
       "  </tbody>\n",
       "</table>\n",
       "</div>"
      ],
      "text/plain": [
       "               Модель        F1\n",
       "0  Линейная регрессия  0.759000\n",
       "1       Случайный лес  0.395000\n",
       "2            LightGBM  0.663000\n",
       "3          Stat model  0.184465"
      ]
     },
     "execution_count": 50,
     "metadata": {},
     "output_type": "execute_result"
    }
   ],
   "source": [
    "pd.DataFrame(result, columns=['Модель', 'F1'])"
   ]
  },
  {
   "cell_type": "markdown",
   "metadata": {},
   "source": [
    "### Итоговый вывод\n",
    "\n",
    "###### Проведено:\n",
    "- Исследование данных\n",
    "- Предобработка данных\n",
    "- Обучение нескольких моделей (Логистическая регрессия; Случайный лес; LightGBM)\n",
    "- Тестирование моделей\n",
    "\n",
    "На основе проведенной работы, полученных результатах и согласно требованиям заказчика, рекомендуется отдать предпочтение модели **Логистической регрессии**, однако, модель LightGBM также обладает хорошими показателями относительно константной модели.\n",
    "\n",
    "Модель удовлетворяет требованиям заказчика по F1-мере, а также обладает хорошей скоростью обучения."
   ]
  },
  {
   "cell_type": "markdown",
   "metadata": {},
   "source": [
    "<!-- <font color='green'><b>Полезные (и просто интересные) материалы:</b> \\\n",
    "Для работы с текстами используют и другие подходы. Например, сейчас активно используются RNN (LSTM) и трансформеры (BERT и другие с улицы Сезам, например, ELMO). НО! Они не являются панацеей, не всегда они нужны, так как и TF-IDF или Word2Vec + модели из классического ML тоже могут справляться. \\\n",
    "BERT тяжелый, существует много его вариаций для разных задач, есть готовые модели, есть надстройки над библиотекой transformers. Если, обучать BERT на GPU (можно в Google Colab или Kaggle), то должно быть побыстрее.\\\n",
    "https://huggingface.co/transformers/model_doc/bert.html \\\n",
    "https://colah.github.io/posts/2015-08-Understanding-LSTMs/ - Про LSTM \\\n",
    "https://web.stanford.edu/~jurafsky/slp3/10.pdf - про энкодер-декодер модели, этеншены\\\n",
    "https://pytorch.org/tutorials/beginner/transformer_tutorial.html - официальный гайд\n",
    "по трансформеру от создателей pytorch\\\n",
    "Библиотеки: allennlp, fairseq, transformers, tensorflow-text — множествореализованных\n",
    "методов для трансформеров методов NLP \\\n",
    "Word2Vec https://radimrehurek.com/gensim/models/word2vec.html\n",
    "\n",
    "<font color='green'>Пример BERT с GPU:\n",
    "```python\n",
    "%%time\n",
    "from tqdm import notebook\n",
    "batch_size = 2 # для примера возьмем такой батч, где будет всего две строки датасета\n",
    "embeddings = []\n",
    "model.cuda()   # закидываем модель на GPU\n",
    "for i in notebook.tqdm(range(input_ids.shape[0] // batch_size)):\n",
    "        batch = torch.LongTensor(input_ids[batch_size*i:batch_size*(i+1)]).cuda() # закидываем тензор на GPU\n",
    "        attention_mask_batch = torch.LongTensor(attention_mask[batch_size*i:batch_size*(i+1)]).cuda()\n",
    "\n",
    "        with torch.no_grad():\n",
    "            batch_embeddings = model(batch, attention_mask=attention_mask_batch)\n",
    "\n",
    "        embeddings.append(batch_embeddings[0][:,0,:].cpu().numpy()) # перевод обратно на проц, чтобы в нумпай кинуть\n",
    "        del batch\n",
    "        del attention_mask_batch\n",
    "        del batch_embeddings\n",
    "\n",
    "features = np.concatenate(embeddings)\n",
    "```\n",
    "Можно сделать предварительную проверку на наличие GPU.\\\n",
    "Например, так: ```device = torch.device(\"cuda:0\") if torch.cuda.is_available() else torch.device(\"cpu\")```\\\n",
    "Тогда вместо .cuda() нужно писать .to(device)\n",
    "\n",
    "Если понравилась работа с текстами, то можешь посмотреть очень интересный (но очень-очень сложный) курс лекций: https://github.com/yandexdataschool/nlp_course .\n",
    "\n",
    "\n",
    "NLP от Samsung https://stepik.org/course/54098/promo \\\n",
    "NLP от Huawei https://ods.ai/tracks/nlp-course-autumn-23 \\\n",
    "Transformers от Hugging Face https://huggingface.co/learn/nlp-course/chapter1/1\n",
    "</font> -->"
   ]
  },
  {
   "cell_type": "markdown",
   "metadata": {},
   "source": [
    "## Чек-лист проверки"
   ]
  },
  {
   "cell_type": "markdown",
   "metadata": {},
   "source": [
    "- [x]  Jupyter Notebook открыт\n",
    "- [ ]  Весь код выполняется без ошибок\n",
    "- [ ]  Ячейки с кодом расположены в порядке исполнения\n",
    "- [ ]  Данные загружены и подготовлены\n",
    "- [ ]  Модели обучены\n",
    "- [ ]  Значение метрики *F1* не меньше 0.75\n",
    "- [ ]  Выводы написаны"
   ]
  }
 ],
 "metadata": {
  "ExecuteTimeLog": [
   {
    "duration": 3,
    "start_time": "2023-09-21T07:39:48.095Z"
   },
   {
    "duration": 2,
    "start_time": "2023-09-21T07:42:24.725Z"
   },
   {
    "duration": 2,
    "start_time": "2023-09-21T07:42:38.275Z"
   },
   {
    "duration": 2525,
    "start_time": "2023-09-21T07:44:23.164Z"
   },
   {
    "duration": 797,
    "start_time": "2023-09-21T07:44:43.514Z"
   },
   {
    "duration": 123,
    "start_time": "2023-09-21T07:45:04.089Z"
   },
   {
    "duration": 17,
    "start_time": "2023-09-21T07:45:10.505Z"
   },
   {
    "duration": 3,
    "start_time": "2023-09-21T07:45:40.671Z"
   },
   {
    "duration": 3,
    "start_time": "2023-09-21T07:46:13.528Z"
   },
   {
    "duration": 13,
    "start_time": "2023-09-21T07:46:21.541Z"
   },
   {
    "duration": 16,
    "start_time": "2023-09-21T07:47:45.706Z"
   },
   {
    "duration": 2,
    "start_time": "2023-09-21T07:47:51.668Z"
   },
   {
    "duration": 13,
    "start_time": "2023-09-21T07:47:51.889Z"
   },
   {
    "duration": 835,
    "start_time": "2023-09-21T07:47:54.577Z"
   },
   {
    "duration": 3,
    "start_time": "2023-09-21T07:47:55.413Z"
   },
   {
    "duration": 45,
    "start_time": "2023-09-21T07:47:55.417Z"
   },
   {
    "duration": 2,
    "start_time": "2023-09-21T07:47:55.464Z"
   },
   {
    "duration": 579,
    "start_time": "2023-09-21T07:48:32.151Z"
   },
   {
    "duration": 47,
    "start_time": "2023-09-21T07:50:24.768Z"
   },
   {
    "duration": 4,
    "start_time": "2023-09-21T07:50:25.302Z"
   },
   {
    "duration": 37,
    "start_time": "2023-09-21T07:50:58.294Z"
   },
   {
    "duration": 38,
    "start_time": "2023-09-21T07:51:04.615Z"
   },
   {
    "duration": 370,
    "start_time": "2023-09-21T07:52:43.897Z"
   },
   {
    "duration": 5,
    "start_time": "2023-09-21T07:54:42.531Z"
   },
   {
    "duration": 24,
    "start_time": "2023-09-21T07:54:48.599Z"
   },
   {
    "duration": 6,
    "start_time": "2023-09-21T07:54:51.817Z"
   },
   {
    "duration": 2,
    "start_time": "2023-09-21T07:54:52.629Z"
   },
   {
    "duration": 782,
    "start_time": "2023-09-21T07:54:53.421Z"
   },
   {
    "duration": 3,
    "start_time": "2023-09-21T07:54:54.205Z"
   },
   {
    "duration": 80,
    "start_time": "2023-09-21T07:54:54.209Z"
   },
   {
    "duration": 97,
    "start_time": "2023-09-21T07:54:54.291Z"
   },
   {
    "duration": 27,
    "start_time": "2023-09-21T07:54:54.389Z"
   },
   {
    "duration": 16,
    "start_time": "2023-09-21T07:54:54.418Z"
   },
   {
    "duration": 856,
    "start_time": "2023-09-21T07:59:46.144Z"
   },
   {
    "duration": 16,
    "start_time": "2023-09-21T07:59:47.002Z"
   },
   {
    "duration": 35,
    "start_time": "2023-09-21T07:59:47.020Z"
   },
   {
    "duration": 6,
    "start_time": "2023-09-21T07:59:47.057Z"
   },
   {
    "duration": 34,
    "start_time": "2023-09-21T07:59:47.065Z"
   },
   {
    "duration": 101,
    "start_time": "2023-09-21T07:59:47.101Z"
   },
   {
    "duration": 829,
    "start_time": "2023-09-21T08:04:18.314Z"
   },
   {
    "duration": 19,
    "start_time": "2023-09-21T08:04:19.415Z"
   },
   {
    "duration": 17,
    "start_time": "2023-09-21T08:04:20.028Z"
   },
   {
    "duration": 749,
    "start_time": "2023-09-21T08:04:37.037Z"
   },
   {
    "duration": 16,
    "start_time": "2023-09-21T08:04:37.789Z"
   },
   {
    "duration": 15,
    "start_time": "2023-09-21T08:04:37.807Z"
   },
   {
    "duration": 788,
    "start_time": "2023-09-21T08:04:46.860Z"
   },
   {
    "duration": 2,
    "start_time": "2023-09-21T08:04:47.650Z"
   },
   {
    "duration": 35,
    "start_time": "2023-09-21T08:04:47.653Z"
   },
   {
    "duration": 27,
    "start_time": "2023-09-21T08:04:47.689Z"
   },
   {
    "duration": 788,
    "start_time": "2023-09-21T08:04:52.276Z"
   },
   {
    "duration": 2,
    "start_time": "2023-09-21T08:04:53.066Z"
   },
   {
    "duration": 48,
    "start_time": "2023-09-21T08:04:53.069Z"
   },
   {
    "duration": 805,
    "start_time": "2023-09-21T08:04:55.340Z"
   },
   {
    "duration": 3,
    "start_time": "2023-09-21T08:04:56.148Z"
   },
   {
    "duration": 59,
    "start_time": "2023-09-21T08:04:56.153Z"
   },
   {
    "duration": 18,
    "start_time": "2023-09-21T08:05:11.301Z"
   },
   {
    "duration": 15,
    "start_time": "2023-09-21T08:05:11.474Z"
   },
   {
    "duration": 7,
    "start_time": "2023-09-21T08:05:12.125Z"
   },
   {
    "duration": 1762,
    "start_time": "2023-09-21T08:14:28.467Z"
   },
   {
    "duration": 150,
    "start_time": "2023-09-21T08:14:33.204Z"
   },
   {
    "duration": 88,
    "start_time": "2023-09-21T08:14:55.144Z"
   },
   {
    "duration": 2,
    "start_time": "2023-09-21T08:14:58.310Z"
   },
   {
    "duration": 4,
    "start_time": "2023-09-21T08:16:29.559Z"
   },
   {
    "duration": 22,
    "start_time": "2023-09-21T08:16:31.773Z"
   },
   {
    "duration": 1790,
    "start_time": "2023-09-21T08:16:41.354Z"
   },
   {
    "duration": 3,
    "start_time": "2023-09-21T08:17:42.240Z"
   },
   {
    "duration": 4,
    "start_time": "2023-09-21T08:17:48.819Z"
   },
   {
    "duration": 788,
    "start_time": "2023-09-21T08:17:59.107Z"
   },
   {
    "duration": 17,
    "start_time": "2023-09-21T08:17:59.896Z"
   },
   {
    "duration": 40,
    "start_time": "2023-09-21T08:17:59.915Z"
   },
   {
    "duration": 9,
    "start_time": "2023-09-21T08:17:59.957Z"
   },
   {
    "duration": 7,
    "start_time": "2023-09-21T08:18:00.073Z"
   },
   {
    "duration": 4,
    "start_time": "2023-09-21T08:18:00.257Z"
   },
   {
    "duration": 121,
    "start_time": "2023-09-21T08:18:00.444Z"
   },
   {
    "duration": 156,
    "start_time": "2023-09-21T08:18:01.628Z"
   },
   {
    "duration": 587,
    "start_time": "2023-09-21T08:18:01.837Z"
   },
   {
    "duration": 6,
    "start_time": "2023-09-21T08:18:02.426Z"
   },
   {
    "duration": 3,
    "start_time": "2023-09-21T08:18:02.601Z"
   },
   {
    "duration": 736,
    "start_time": "2023-09-21T08:18:11.397Z"
   },
   {
    "duration": 19,
    "start_time": "2023-09-21T08:18:12.135Z"
   },
   {
    "duration": 26,
    "start_time": "2023-09-21T08:18:12.157Z"
   },
   {
    "duration": 15,
    "start_time": "2023-09-21T08:18:12.185Z"
   },
   {
    "duration": 17,
    "start_time": "2023-09-21T08:18:12.201Z"
   },
   {
    "duration": 4,
    "start_time": "2023-09-21T08:18:12.389Z"
   },
   {
    "duration": 102,
    "start_time": "2023-09-21T08:18:12.594Z"
   },
   {
    "duration": 149,
    "start_time": "2023-09-21T08:18:13.160Z"
   },
   {
    "duration": 556,
    "start_time": "2023-09-21T08:18:13.375Z"
   },
   {
    "duration": 5,
    "start_time": "2023-09-21T08:18:13.933Z"
   },
   {
    "duration": 5,
    "start_time": "2023-09-21T08:18:13.949Z"
   },
   {
    "duration": 3,
    "start_time": "2023-09-21T08:18:53.002Z"
   },
   {
    "duration": 4,
    "start_time": "2023-09-21T08:18:53.186Z"
   },
   {
    "duration": 769,
    "start_time": "2023-09-21T08:18:55.244Z"
   },
   {
    "duration": 3,
    "start_time": "2023-09-21T08:18:56.015Z"
   },
   {
    "duration": 37,
    "start_time": "2023-09-21T08:18:56.019Z"
   },
   {
    "duration": 22,
    "start_time": "2023-09-21T08:18:56.059Z"
   },
   {
    "duration": 12,
    "start_time": "2023-09-21T08:18:56.083Z"
   },
   {
    "duration": 15,
    "start_time": "2023-09-21T08:18:56.097Z"
   },
   {
    "duration": 4,
    "start_time": "2023-09-21T08:18:56.180Z"
   },
   {
    "duration": 114,
    "start_time": "2023-09-21T08:18:56.337Z"
   },
   {
    "duration": 139,
    "start_time": "2023-09-21T08:18:56.821Z"
   },
   {
    "duration": 540,
    "start_time": "2023-09-21T08:18:56.974Z"
   },
   {
    "duration": 4,
    "start_time": "2023-09-21T08:18:57.516Z"
   },
   {
    "duration": 35,
    "start_time": "2023-09-21T08:18:57.522Z"
   },
   {
    "duration": 46,
    "start_time": "2023-09-21T08:20:42.880Z"
   },
   {
    "duration": 47,
    "start_time": "2023-09-21T08:21:05.830Z"
   },
   {
    "duration": 5,
    "start_time": "2023-09-21T08:21:43.173Z"
   },
   {
    "duration": 50,
    "start_time": "2023-09-21T08:21:46.903Z"
   },
   {
    "duration": 7,
    "start_time": "2023-09-21T08:21:53.375Z"
   },
   {
    "duration": 5,
    "start_time": "2023-09-21T08:21:55.929Z"
   },
   {
    "duration": 2946,
    "start_time": "2023-09-21T08:23:54.934Z"
   },
   {
    "duration": 45,
    "start_time": "2023-09-21T08:25:12.533Z"
   },
   {
    "duration": 6,
    "start_time": "2023-09-21T08:25:18.222Z"
   },
   {
    "duration": 4866,
    "start_time": "2023-09-21T08:25:23.902Z"
   },
   {
    "duration": 23,
    "start_time": "2023-09-21T08:25:28.770Z"
   },
   {
    "duration": 2,
    "start_time": "2023-09-21T08:25:28.795Z"
   },
   {
    "duration": 2279,
    "start_time": "2023-09-21T08:25:28.799Z"
   },
   {
    "duration": 2,
    "start_time": "2023-09-21T08:25:31.079Z"
   },
   {
    "duration": 60,
    "start_time": "2023-09-21T08:25:31.083Z"
   },
   {
    "duration": 66,
    "start_time": "2023-09-21T08:25:31.144Z"
   },
   {
    "duration": 36,
    "start_time": "2023-09-21T08:25:31.211Z"
   },
   {
    "duration": 68,
    "start_time": "2023-09-21T08:25:31.249Z"
   },
   {
    "duration": 82,
    "start_time": "2023-09-21T08:25:31.319Z"
   },
   {
    "duration": 142,
    "start_time": "2023-09-21T08:25:31.403Z"
   },
   {
    "duration": 2711,
    "start_time": "2023-09-21T08:25:31.546Z"
   },
   {
    "duration": 561,
    "start_time": "2023-09-21T08:25:34.259Z"
   },
   {
    "duration": 3,
    "start_time": "2023-09-21T08:25:34.822Z"
   },
   {
    "duration": 56,
    "start_time": "2023-09-21T08:25:34.827Z"
   },
   {
    "duration": 48,
    "start_time": "2023-09-21T08:25:34.884Z"
   },
   {
    "duration": 17215,
    "start_time": "2023-09-21T08:25:34.933Z"
   },
   {
    "duration": 130,
    "start_time": "2023-09-21T08:26:29.014Z"
   },
   {
    "duration": 2,
    "start_time": "2023-09-21T08:26:33.781Z"
   },
   {
    "duration": 3327,
    "start_time": "2023-09-21T08:26:33.785Z"
   },
   {
    "duration": 23,
    "start_time": "2023-09-21T08:26:37.114Z"
   },
   {
    "duration": 11,
    "start_time": "2023-09-21T08:26:37.139Z"
   },
   {
    "duration": 2326,
    "start_time": "2023-09-21T08:26:37.152Z"
   },
   {
    "duration": 2,
    "start_time": "2023-09-21T08:26:39.480Z"
   },
   {
    "duration": 26,
    "start_time": "2023-09-21T08:26:39.484Z"
   },
   {
    "duration": 18,
    "start_time": "2023-09-21T08:26:39.512Z"
   },
   {
    "duration": 19,
    "start_time": "2023-09-21T08:26:39.531Z"
   },
   {
    "duration": 25,
    "start_time": "2023-09-21T08:26:39.552Z"
   },
   {
    "duration": 13,
    "start_time": "2023-09-21T08:26:39.578Z"
   },
   {
    "duration": 127,
    "start_time": "2023-09-21T08:26:39.593Z"
   },
   {
    "duration": 2134,
    "start_time": "2023-09-21T08:26:39.722Z"
   },
   {
    "duration": 571,
    "start_time": "2023-09-21T08:26:41.859Z"
   },
   {
    "duration": 5,
    "start_time": "2023-09-21T08:26:42.432Z"
   },
   {
    "duration": 64,
    "start_time": "2023-09-21T08:26:42.439Z"
   },
   {
    "duration": 16,
    "start_time": "2023-09-21T08:26:42.505Z"
   },
   {
    "duration": 17248,
    "start_time": "2023-09-21T08:26:42.522Z"
   },
   {
    "duration": 365,
    "start_time": "2023-09-21T08:29:27.549Z"
   },
   {
    "duration": 73,
    "start_time": "2023-09-21T08:30:21.279Z"
   },
   {
    "duration": 41,
    "start_time": "2023-09-21T08:30:28.489Z"
   },
   {
    "duration": 280,
    "start_time": "2023-09-21T08:33:37.029Z"
   },
   {
    "duration": 590,
    "start_time": "2023-09-21T08:33:37.659Z"
   },
   {
    "duration": 4,
    "start_time": "2023-09-21T08:33:39.389Z"
   },
   {
    "duration": 593,
    "start_time": "2023-09-21T08:33:48.361Z"
   },
   {
    "duration": 4,
    "start_time": "2023-09-21T08:33:48.956Z"
   },
   {
    "duration": 152,
    "start_time": "2023-09-21T08:33:50.154Z"
   },
   {
    "duration": 593,
    "start_time": "2023-09-21T08:33:50.308Z"
   },
   {
    "duration": 6,
    "start_time": "2023-09-21T08:33:50.902Z"
   },
   {
    "duration": 556,
    "start_time": "2023-09-21T08:33:57.672Z"
   },
   {
    "duration": 4,
    "start_time": "2023-09-21T08:33:58.230Z"
   },
   {
    "duration": 560,
    "start_time": "2023-09-21T08:34:59.311Z"
   },
   {
    "duration": 3,
    "start_time": "2023-09-21T08:34:59.873Z"
   },
   {
    "duration": 163,
    "start_time": "2023-09-21T08:35:00.576Z"
   },
   {
    "duration": 556,
    "start_time": "2023-09-21T08:35:00.741Z"
   },
   {
    "duration": 4,
    "start_time": "2023-09-21T08:35:01.299Z"
   },
   {
    "duration": 4,
    "start_time": "2023-09-21T08:35:17.106Z"
   },
   {
    "duration": 3731,
    "start_time": "2023-09-21T08:35:17.111Z"
   },
   {
    "duration": 24,
    "start_time": "2023-09-21T08:35:20.844Z"
   },
   {
    "duration": 25,
    "start_time": "2023-09-21T08:35:20.869Z"
   },
   {
    "duration": 2299,
    "start_time": "2023-09-21T08:35:20.896Z"
   },
   {
    "duration": 3,
    "start_time": "2023-09-21T08:35:23.196Z"
   },
   {
    "duration": 27,
    "start_time": "2023-09-21T08:35:23.201Z"
   },
   {
    "duration": 20,
    "start_time": "2023-09-21T08:35:23.230Z"
   },
   {
    "duration": 14,
    "start_time": "2023-09-21T08:35:23.251Z"
   },
   {
    "duration": 18,
    "start_time": "2023-09-21T08:35:23.267Z"
   },
   {
    "duration": 9,
    "start_time": "2023-09-21T08:35:23.287Z"
   },
   {
    "duration": 128,
    "start_time": "2023-09-21T08:35:23.298Z"
   },
   {
    "duration": 1933,
    "start_time": "2023-09-21T08:35:23.428Z"
   },
   {
    "duration": 628,
    "start_time": "2023-09-21T08:35:25.363Z"
   },
   {
    "duration": 5,
    "start_time": "2023-09-21T08:35:25.993Z"
   },
   {
    "duration": 20,
    "start_time": "2023-09-21T08:35:38.465Z"
   },
   {
    "duration": 5,
    "start_time": "2023-09-21T08:35:39.807Z"
   },
   {
    "duration": 9188,
    "start_time": "2023-09-21T08:35:42.499Z"
   },
   {
    "duration": 3,
    "start_time": "2023-09-21T08:36:11.372Z"
   },
   {
    "duration": 3036,
    "start_time": "2023-09-21T08:36:11.377Z"
   },
   {
    "duration": 24,
    "start_time": "2023-09-21T08:36:14.415Z"
   },
   {
    "duration": 10,
    "start_time": "2023-09-21T08:36:14.441Z"
   },
   {
    "duration": 2364,
    "start_time": "2023-09-21T08:36:14.452Z"
   },
   {
    "duration": 3,
    "start_time": "2023-09-21T08:36:16.817Z"
   },
   {
    "duration": 48,
    "start_time": "2023-09-21T08:36:16.821Z"
   },
   {
    "duration": 33,
    "start_time": "2023-09-21T08:36:16.871Z"
   },
   {
    "duration": 23,
    "start_time": "2023-09-21T08:36:16.905Z"
   },
   {
    "duration": 49,
    "start_time": "2023-09-21T08:36:16.930Z"
   },
   {
    "duration": 33,
    "start_time": "2023-09-21T08:36:16.980Z"
   },
   {
    "duration": 136,
    "start_time": "2023-09-21T08:36:17.015Z"
   },
   {
    "duration": 2338,
    "start_time": "2023-09-21T08:36:17.152Z"
   },
   {
    "duration": 577,
    "start_time": "2023-09-21T08:36:19.491Z"
   },
   {
    "duration": 4,
    "start_time": "2023-09-21T08:36:20.069Z"
   },
   {
    "duration": 46,
    "start_time": "2023-09-21T08:36:20.075Z"
   },
   {
    "duration": 13,
    "start_time": "2023-09-21T08:36:20.123Z"
   },
   {
    "duration": 17290,
    "start_time": "2023-09-21T08:36:20.137Z"
   },
   {
    "duration": 81200,
    "start_time": "2023-09-21T08:38:40.920Z"
   },
   {
    "duration": 2,
    "start_time": "2023-09-21T08:40:15.904Z"
   },
   {
    "duration": 4,
    "start_time": "2023-09-21T08:47:18.784Z"
   },
   {
    "duration": 24,
    "start_time": "2023-09-21T08:47:18.790Z"
   },
   {
    "duration": 3017,
    "start_time": "2023-09-21T08:47:18.816Z"
   },
   {
    "duration": 23,
    "start_time": "2023-09-21T08:47:21.834Z"
   },
   {
    "duration": 125,
    "start_time": "2023-09-21T08:47:21.859Z"
   },
   {
    "duration": 2373,
    "start_time": "2023-09-21T08:47:21.986Z"
   },
   {
    "duration": 2,
    "start_time": "2023-09-21T08:47:24.361Z"
   },
   {
    "duration": 47,
    "start_time": "2023-09-21T08:47:24.364Z"
   },
   {
    "duration": 54,
    "start_time": "2023-09-21T08:47:24.412Z"
   },
   {
    "duration": 17,
    "start_time": "2023-09-21T08:47:24.467Z"
   },
   {
    "duration": 24,
    "start_time": "2023-09-21T08:47:24.485Z"
   },
   {
    "duration": 43,
    "start_time": "2023-09-21T08:47:24.511Z"
   },
   {
    "duration": 119,
    "start_time": "2023-09-21T08:47:24.555Z"
   },
   {
    "duration": 2294,
    "start_time": "2023-09-21T08:47:24.677Z"
   },
   {
    "duration": 566,
    "start_time": "2023-09-21T08:47:26.973Z"
   },
   {
    "duration": 9,
    "start_time": "2023-09-21T08:47:27.541Z"
   },
   {
    "duration": 55,
    "start_time": "2023-09-21T08:47:27.551Z"
   },
   {
    "duration": 24,
    "start_time": "2023-09-21T08:47:27.607Z"
   },
   {
    "duration": 17391,
    "start_time": "2023-09-21T08:47:27.633Z"
   },
   {
    "duration": 43,
    "start_time": "2023-09-21T08:48:03.087Z"
   },
   {
    "duration": 7,
    "start_time": "2023-09-21T08:48:03.227Z"
   },
   {
    "duration": 61,
    "start_time": "2023-09-21T08:48:03.373Z"
   },
   {
    "duration": 9,
    "start_time": "2023-09-21T08:48:03.529Z"
   },
   {
    "duration": 7,
    "start_time": "2023-09-21T08:48:03.686Z"
   },
   {
    "duration": 2,
    "start_time": "2023-09-21T08:48:09.808Z"
   },
   {
    "duration": 25,
    "start_time": "2023-09-21T08:48:09.813Z"
   },
   {
    "duration": 3351,
    "start_time": "2023-09-21T08:48:09.839Z"
   },
   {
    "duration": 24,
    "start_time": "2023-09-21T08:48:13.192Z"
   },
   {
    "duration": 2,
    "start_time": "2023-09-21T08:48:13.218Z"
   },
   {
    "duration": 2279,
    "start_time": "2023-09-21T08:48:13.221Z"
   },
   {
    "duration": 2,
    "start_time": "2023-09-21T08:48:15.501Z"
   },
   {
    "duration": 49,
    "start_time": "2023-09-21T08:48:15.505Z"
   },
   {
    "duration": 25,
    "start_time": "2023-09-21T08:48:15.556Z"
   },
   {
    "duration": 35,
    "start_time": "2023-09-21T08:48:15.582Z"
   },
   {
    "duration": 25,
    "start_time": "2023-09-21T08:48:15.619Z"
   },
   {
    "duration": 13,
    "start_time": "2023-09-21T08:48:15.645Z"
   },
   {
    "duration": 120,
    "start_time": "2023-09-21T08:48:15.659Z"
   },
   {
    "duration": 2154,
    "start_time": "2023-09-21T08:48:15.782Z"
   },
   {
    "duration": 602,
    "start_time": "2023-09-21T08:48:17.937Z"
   },
   {
    "duration": 5,
    "start_time": "2023-09-21T08:48:18.541Z"
   },
   {
    "duration": 306,
    "start_time": "2023-09-21T08:48:18.550Z"
   },
   {
    "duration": 0,
    "start_time": "2023-09-21T08:48:18.858Z"
   },
   {
    "duration": 0,
    "start_time": "2023-09-21T08:48:18.859Z"
   },
   {
    "duration": 1,
    "start_time": "2023-09-21T08:48:18.860Z"
   },
   {
    "duration": 566,
    "start_time": "2023-09-21T08:48:39.795Z"
   },
   {
    "duration": 11,
    "start_time": "2023-09-21T08:48:40.363Z"
   },
   {
    "duration": 19,
    "start_time": "2023-09-21T08:48:41.080Z"
   },
   {
    "duration": 4,
    "start_time": "2023-09-21T08:48:41.274Z"
   },
   {
    "duration": 17179,
    "start_time": "2023-09-21T08:48:41.522Z"
   },
   {
    "duration": 3,
    "start_time": "2023-09-21T08:53:19.880Z"
   },
   {
    "duration": 9,
    "start_time": "2023-09-21T08:53:19.885Z"
   },
   {
    "duration": 3978,
    "start_time": "2023-09-21T08:53:19.896Z"
   },
   {
    "duration": 24,
    "start_time": "2023-09-21T08:53:23.876Z"
   },
   {
    "duration": 13,
    "start_time": "2023-09-21T08:53:23.902Z"
   },
   {
    "duration": 2413,
    "start_time": "2023-09-21T08:53:23.917Z"
   },
   {
    "duration": 3,
    "start_time": "2023-09-21T08:53:26.332Z"
   },
   {
    "duration": 46,
    "start_time": "2023-09-21T08:53:26.336Z"
   },
   {
    "duration": 30,
    "start_time": "2023-09-21T08:53:26.384Z"
   },
   {
    "duration": 18,
    "start_time": "2023-09-21T08:53:26.416Z"
   },
   {
    "duration": 38,
    "start_time": "2023-09-21T08:53:26.436Z"
   },
   {
    "duration": 24,
    "start_time": "2023-09-21T08:53:26.476Z"
   },
   {
    "duration": 139,
    "start_time": "2023-09-21T08:53:26.501Z"
   },
   {
    "duration": 2058,
    "start_time": "2023-09-21T08:53:26.642Z"
   },
   {
    "duration": 568,
    "start_time": "2023-09-21T08:53:28.702Z"
   },
   {
    "duration": 5,
    "start_time": "2023-09-21T08:53:29.271Z"
   },
   {
    "duration": 24,
    "start_time": "2023-09-21T08:53:29.277Z"
   },
   {
    "duration": 28,
    "start_time": "2023-09-21T08:53:29.302Z"
   },
   {
    "duration": 17148,
    "start_time": "2023-09-21T08:53:29.331Z"
   },
   {
    "duration": 970,
    "start_time": "2023-09-21T08:54:48.251Z"
   },
   {
    "duration": 952,
    "start_time": "2023-09-21T08:54:56.893Z"
   },
   {
    "duration": 1023,
    "start_time": "2023-09-21T08:55:09.448Z"
   },
   {
    "duration": 6,
    "start_time": "2023-09-21T09:01:24.232Z"
   },
   {
    "duration": 30,
    "start_time": "2023-09-21T09:01:24.240Z"
   },
   {
    "duration": 48,
    "start_time": "2023-09-21T09:01:24.272Z"
   },
   {
    "duration": 3992,
    "start_time": "2023-09-21T09:01:24.322Z"
   },
   {
    "duration": 28,
    "start_time": "2023-09-21T09:01:28.317Z"
   },
   {
    "duration": 32,
    "start_time": "2023-09-21T09:01:28.347Z"
   },
   {
    "duration": 2372,
    "start_time": "2023-09-21T09:01:28.381Z"
   },
   {
    "duration": 3,
    "start_time": "2023-09-21T09:01:30.755Z"
   },
   {
    "duration": 179,
    "start_time": "2023-09-21T09:01:30.759Z"
   },
   {
    "duration": 348,
    "start_time": "2023-09-21T09:01:30.940Z"
   },
   {
    "duration": 53,
    "start_time": "2023-09-21T09:01:31.289Z"
   },
   {
    "duration": 129,
    "start_time": "2023-09-21T09:01:31.344Z"
   },
   {
    "duration": 86,
    "start_time": "2023-09-21T09:01:31.474Z"
   },
   {
    "duration": 196,
    "start_time": "2023-09-21T09:01:31.563Z"
   },
   {
    "duration": 2937,
    "start_time": "2023-09-21T09:01:31.761Z"
   },
   {
    "duration": 591,
    "start_time": "2023-09-21T09:01:34.699Z"
   },
   {
    "duration": 9,
    "start_time": "2023-09-21T09:01:35.292Z"
   },
   {
    "duration": 55,
    "start_time": "2023-09-21T09:01:35.302Z"
   },
   {
    "duration": 22,
    "start_time": "2023-09-21T09:01:35.358Z"
   },
   {
    "duration": 17294,
    "start_time": "2023-09-21T09:01:35.382Z"
   },
   {
    "duration": 4413,
    "start_time": "2023-09-21T15:13:19.581Z"
   },
   {
    "duration": 5,
    "start_time": "2023-09-21T15:13:57.814Z"
   },
   {
    "duration": 5,
    "start_time": "2023-09-21T15:14:40.469Z"
   },
   {
    "duration": 43,
    "start_time": "2023-09-21T15:14:40.579Z"
   },
   {
    "duration": 2,
    "start_time": "2023-09-21T15:14:40.763Z"
   },
   {
    "duration": 2712,
    "start_time": "2023-09-21T15:14:41.188Z"
   },
   {
    "duration": 3,
    "start_time": "2023-09-21T15:14:43.902Z"
   },
   {
    "duration": 99,
    "start_time": "2023-09-21T15:14:43.907Z"
   },
   {
    "duration": 145,
    "start_time": "2023-09-21T15:14:44.009Z"
   },
   {
    "duration": 51,
    "start_time": "2023-09-21T15:14:44.161Z"
   },
   {
    "duration": 60,
    "start_time": "2023-09-21T15:14:44.216Z"
   },
   {
    "duration": 64,
    "start_time": "2023-09-21T15:14:44.278Z"
   },
   {
    "duration": 53,
    "start_time": "2023-09-21T15:14:44.349Z"
   },
   {
    "duration": 162,
    "start_time": "2023-09-21T15:14:44.404Z"
   },
   {
    "duration": 2675,
    "start_time": "2023-09-21T15:14:45.247Z"
   },
   {
    "duration": 746,
    "start_time": "2023-09-21T15:14:47.932Z"
   },
   {
    "duration": 5,
    "start_time": "2023-09-21T15:14:48.680Z"
   },
   {
    "duration": 179,
    "start_time": "2023-09-21T15:14:48.687Z"
   },
   {
    "duration": 55,
    "start_time": "2023-09-21T15:14:48.868Z"
   },
   {
    "duration": 21478,
    "start_time": "2023-09-21T15:14:48.925Z"
   },
   {
    "duration": 1113449,
    "start_time": "2023-09-21T15:15:12.907Z"
   },
   {
    "duration": 4,
    "start_time": "2023-09-21T16:41:16.573Z"
   },
   {
    "duration": 5,
    "start_time": "2023-09-21T16:41:19.179Z"
   },
   {
    "duration": 391,
    "start_time": "2023-09-21T16:41:26.769Z"
   },
   {
    "duration": 8,
    "start_time": "2023-09-21T16:41:29.731Z"
   },
   {
    "duration": 3261,
    "start_time": "2023-09-22T08:18:03.812Z"
   },
   {
    "duration": 29,
    "start_time": "2023-09-22T08:18:07.075Z"
   },
   {
    "duration": 2,
    "start_time": "2023-09-22T08:18:07.105Z"
   },
   {
    "duration": 2479,
    "start_time": "2023-09-22T08:18:07.109Z"
   },
   {
    "duration": 3,
    "start_time": "2023-09-22T08:18:09.589Z"
   },
   {
    "duration": 23,
    "start_time": "2023-09-22T08:18:09.594Z"
   },
   {
    "duration": 22,
    "start_time": "2023-09-22T08:18:09.619Z"
   },
   {
    "duration": 10,
    "start_time": "2023-09-22T08:18:09.643Z"
   },
   {
    "duration": 9,
    "start_time": "2023-09-22T08:18:09.655Z"
   },
   {
    "duration": 17,
    "start_time": "2023-09-22T08:18:09.666Z"
   },
   {
    "duration": 21,
    "start_time": "2023-09-22T08:18:09.685Z"
   },
   {
    "duration": 135,
    "start_time": "2023-09-22T08:18:09.710Z"
   },
   {
    "duration": 3,
    "start_time": "2023-09-22T08:25:59.637Z"
   },
   {
    "duration": 3,
    "start_time": "2023-09-22T08:26:32.904Z"
   },
   {
    "duration": 3,
    "start_time": "2023-09-22T08:26:32.975Z"
   },
   {
    "duration": 3,
    "start_time": "2023-09-22T08:26:33.135Z"
   },
   {
    "duration": 3,
    "start_time": "2023-09-22T08:26:33.332Z"
   },
   {
    "duration": 2,
    "start_time": "2023-09-22T08:26:33.428Z"
   },
   {
    "duration": 3,
    "start_time": "2023-09-22T08:26:33.568Z"
   },
   {
    "duration": 3,
    "start_time": "2023-09-22T08:26:33.727Z"
   },
   {
    "duration": 3,
    "start_time": "2023-09-22T08:26:33.896Z"
   },
   {
    "duration": 3,
    "start_time": "2023-09-22T08:26:34.135Z"
   },
   {
    "duration": 2,
    "start_time": "2023-09-22T08:26:34.589Z"
   },
   {
    "duration": 10,
    "start_time": "2023-09-22T08:34:37.974Z"
   },
   {
    "duration": 5,
    "start_time": "2023-09-22T08:37:20.457Z"
   },
   {
    "duration": 6,
    "start_time": "2023-09-22T08:40:47.388Z"
   },
   {
    "duration": 5,
    "start_time": "2023-09-22T08:41:15.413Z"
   },
   {
    "duration": 205,
    "start_time": "2023-09-22T08:42:23.526Z"
   },
   {
    "duration": 6,
    "start_time": "2023-09-22T08:42:52.384Z"
   },
   {
    "duration": 4,
    "start_time": "2023-09-22T08:42:57.659Z"
   },
   {
    "duration": 4,
    "start_time": "2023-09-22T08:44:37.032Z"
   },
   {
    "duration": 12,
    "start_time": "2023-09-22T08:44:37.683Z"
   },
   {
    "duration": 6,
    "start_time": "2023-09-22T08:46:07.314Z"
   },
   {
    "duration": 1666,
    "start_time": "2023-09-22T08:46:21.035Z"
   },
   {
    "duration": 15,
    "start_time": "2023-09-22T08:54:10.028Z"
   },
   {
    "duration": 32,
    "start_time": "2023-09-22T08:54:31.410Z"
   },
   {
    "duration": 115,
    "start_time": "2023-09-22T08:54:42.237Z"
   },
   {
    "duration": 112,
    "start_time": "2023-09-22T08:56:55.847Z"
   },
   {
    "duration": 130,
    "start_time": "2023-09-22T08:57:00.613Z"
   },
   {
    "duration": 121,
    "start_time": "2023-09-22T08:57:05.008Z"
   },
   {
    "duration": 15,
    "start_time": "2023-09-22T08:59:42.568Z"
   },
   {
    "duration": 4,
    "start_time": "2023-09-22T09:05:43.295Z"
   },
   {
    "duration": 30,
    "start_time": "2023-09-22T09:05:43.340Z"
   },
   {
    "duration": 4,
    "start_time": "2023-09-22T09:14:09.858Z"
   },
   {
    "duration": 9,
    "start_time": "2023-09-22T09:21:48.927Z"
   },
   {
    "duration": 9,
    "start_time": "2023-09-22T09:22:17.728Z"
   },
   {
    "duration": 6,
    "start_time": "2023-09-22T09:22:31.599Z"
   },
   {
    "duration": 6,
    "start_time": "2023-09-22T09:23:01.786Z"
   },
   {
    "duration": 6,
    "start_time": "2023-09-22T09:23:10.975Z"
   },
   {
    "duration": 214,
    "start_time": "2023-09-22T09:28:57.586Z"
   },
   {
    "duration": 39,
    "start_time": "2023-09-22T09:28:59.923Z"
   },
   {
    "duration": 6,
    "start_time": "2023-09-22T09:29:05.434Z"
   },
   {
    "duration": 6,
    "start_time": "2023-09-22T09:29:35.537Z"
   },
   {
    "duration": 3,
    "start_time": "2023-09-22T09:29:55.970Z"
   },
   {
    "duration": 4,
    "start_time": "2023-09-22T09:37:15.124Z"
   },
   {
    "duration": 3,
    "start_time": "2023-09-22T09:37:16.324Z"
   },
   {
    "duration": 3,
    "start_time": "2023-09-22T09:37:16.754Z"
   },
   {
    "duration": 3982,
    "start_time": "2023-09-22T09:37:29.112Z"
   },
   {
    "duration": 40,
    "start_time": "2023-09-22T09:37:33.097Z"
   },
   {
    "duration": 4,
    "start_time": "2023-09-22T09:37:33.139Z"
   },
   {
    "duration": 948,
    "start_time": "2023-09-22T09:37:33.146Z"
   },
   {
    "duration": 3,
    "start_time": "2023-09-22T09:37:34.096Z"
   },
   {
    "duration": 30,
    "start_time": "2023-09-22T09:37:34.110Z"
   },
   {
    "duration": 256,
    "start_time": "2023-09-22T09:37:34.142Z"
   },
   {
    "duration": 5,
    "start_time": "2023-09-22T09:37:34.401Z"
   },
   {
    "duration": 53,
    "start_time": "2023-09-22T09:37:34.408Z"
   },
   {
    "duration": 6,
    "start_time": "2023-09-22T09:37:34.465Z"
   },
   {
    "duration": 129,
    "start_time": "2023-09-22T09:37:34.474Z"
   },
   {
    "duration": 13,
    "start_time": "2023-09-22T09:37:34.605Z"
   },
   {
    "duration": 72,
    "start_time": "2023-09-22T09:37:34.620Z"
   },
   {
    "duration": 1683,
    "start_time": "2023-09-22T09:37:34.695Z"
   },
   {
    "duration": 31,
    "start_time": "2023-09-22T09:37:36.379Z"
   },
   {
    "duration": 9,
    "start_time": "2023-09-22T09:37:36.412Z"
   },
   {
    "duration": 21,
    "start_time": "2023-09-22T09:37:36.424Z"
   },
   {
    "duration": 23,
    "start_time": "2023-09-22T09:37:36.449Z"
   },
   {
    "duration": 165,
    "start_time": "2023-09-22T09:37:36.474Z"
   },
   {
    "duration": 45,
    "start_time": "2023-09-22T09:37:36.642Z"
   },
   {
    "duration": 11,
    "start_time": "2023-09-22T09:37:36.689Z"
   },
   {
    "duration": 21,
    "start_time": "2023-09-22T09:37:36.703Z"
   },
   {
    "duration": 20,
    "start_time": "2023-09-22T09:37:36.726Z"
   },
   {
    "duration": 30,
    "start_time": "2023-09-22T09:37:36.748Z"
   },
   {
    "duration": 29,
    "start_time": "2023-09-22T09:37:36.780Z"
   },
   {
    "duration": 28,
    "start_time": "2023-09-22T09:37:36.811Z"
   },
   {
    "duration": 21,
    "start_time": "2023-09-22T09:37:36.841Z"
   },
   {
    "duration": 19,
    "start_time": "2023-09-22T09:37:36.866Z"
   },
   {
    "duration": 27,
    "start_time": "2023-09-22T09:37:36.887Z"
   },
   {
    "duration": 37,
    "start_time": "2023-09-22T09:37:36.916Z"
   },
   {
    "duration": 18,
    "start_time": "2023-09-22T09:37:36.956Z"
   },
   {
    "duration": 79,
    "start_time": "2023-09-22T09:37:36.976Z"
   },
   {
    "duration": 6,
    "start_time": "2023-09-22T09:37:37.058Z"
   },
   {
    "duration": 21,
    "start_time": "2023-09-22T09:37:37.066Z"
   },
   {
    "duration": 3387,
    "start_time": "2023-09-22T09:38:54.472Z"
   },
   {
    "duration": 28,
    "start_time": "2023-09-22T09:38:57.863Z"
   },
   {
    "duration": 3,
    "start_time": "2023-09-22T09:38:57.893Z"
   },
   {
    "duration": 1069,
    "start_time": "2023-09-22T09:38:57.898Z"
   },
   {
    "duration": 3,
    "start_time": "2023-09-22T09:38:58.969Z"
   },
   {
    "duration": 41,
    "start_time": "2023-09-22T09:38:58.974Z"
   },
   {
    "duration": 32,
    "start_time": "2023-09-22T09:38:59.018Z"
   },
   {
    "duration": 17,
    "start_time": "2023-09-22T09:38:59.053Z"
   },
   {
    "duration": 28,
    "start_time": "2023-09-22T09:38:59.072Z"
   },
   {
    "duration": 15,
    "start_time": "2023-09-22T09:38:59.103Z"
   },
   {
    "duration": 177,
    "start_time": "2023-09-22T09:38:59.121Z"
   },
   {
    "duration": 72,
    "start_time": "2023-09-22T09:38:59.300Z"
   },
   {
    "duration": 14,
    "start_time": "2023-09-22T09:38:59.374Z"
   },
   {
    "duration": 3257,
    "start_time": "2023-09-22T09:38:59.392Z"
   },
   {
    "duration": 66,
    "start_time": "2023-09-22T09:39:02.652Z"
   },
   {
    "duration": 26,
    "start_time": "2023-09-22T09:39:02.720Z"
   },
   {
    "duration": 28,
    "start_time": "2023-09-22T09:39:02.749Z"
   },
   {
    "duration": 46,
    "start_time": "2023-09-22T09:39:02.783Z"
   },
   {
    "duration": 222,
    "start_time": "2023-09-22T09:39:02.832Z"
   },
   {
    "duration": 249,
    "start_time": "2023-09-22T09:39:03.056Z"
   },
   {
    "duration": 6,
    "start_time": "2023-09-22T09:39:03.308Z"
   },
   {
    "duration": 7,
    "start_time": "2023-09-22T09:39:03.316Z"
   },
   {
    "duration": 18,
    "start_time": "2023-09-22T09:39:03.326Z"
   },
   {
    "duration": 23,
    "start_time": "2023-09-22T09:39:03.347Z"
   },
   {
    "duration": 15,
    "start_time": "2023-09-22T09:39:03.372Z"
   },
   {
    "duration": 24,
    "start_time": "2023-09-22T09:39:03.389Z"
   },
   {
    "duration": 22,
    "start_time": "2023-09-22T09:39:03.415Z"
   },
   {
    "duration": 23,
    "start_time": "2023-09-22T09:39:03.440Z"
   },
   {
    "duration": 15,
    "start_time": "2023-09-22T09:39:03.465Z"
   },
   {
    "duration": 72,
    "start_time": "2023-09-22T09:39:03.482Z"
   },
   {
    "duration": 35,
    "start_time": "2023-09-22T09:39:03.556Z"
   },
   {
    "duration": 1926,
    "start_time": "2023-09-22T09:39:03.593Z"
   },
   {
    "duration": 88,
    "start_time": "2023-09-22T09:39:05.523Z"
   },
   {
    "duration": 14,
    "start_time": "2023-09-22T09:39:05.614Z"
   },
   {
    "duration": 3616,
    "start_time": "2023-09-22T09:39:57.931Z"
   },
   {
    "duration": 29,
    "start_time": "2023-09-22T09:40:01.549Z"
   },
   {
    "duration": 200,
    "start_time": "2023-09-22T09:40:01.579Z"
   },
   {
    "duration": 1272,
    "start_time": "2023-09-22T09:40:01.781Z"
   },
   {
    "duration": 4,
    "start_time": "2023-09-22T09:40:03.056Z"
   },
   {
    "duration": 63,
    "start_time": "2023-09-22T09:40:03.062Z"
   },
   {
    "duration": 137,
    "start_time": "2023-09-22T09:40:03.128Z"
   },
   {
    "duration": 14,
    "start_time": "2023-09-22T09:40:03.267Z"
   },
   {
    "duration": 78,
    "start_time": "2023-09-22T09:40:03.284Z"
   },
   {
    "duration": 22,
    "start_time": "2023-09-22T09:40:03.364Z"
   },
   {
    "duration": 176,
    "start_time": "2023-09-22T09:40:03.389Z"
   },
   {
    "duration": 2206,
    "start_time": "2023-09-22T09:40:03.567Z"
   },
   {
    "duration": 5,
    "start_time": "2023-09-22T09:40:05.776Z"
   },
   {
    "duration": 56953,
    "start_time": "2023-09-22T09:40:05.786Z"
   },
   {
    "duration": 814,
    "start_time": "2023-09-22T09:41:02.741Z"
   },
   {
    "duration": 3,
    "start_time": "2023-09-22T09:41:03.557Z"
   },
   {
    "duration": 103,
    "start_time": "2023-09-22T09:41:03.563Z"
   },
   {
    "duration": 4,
    "start_time": "2023-09-22T09:41:03.668Z"
   },
   {
    "duration": 218,
    "start_time": "2023-09-22T09:41:03.674Z"
   },
   {
    "duration": 9089,
    "start_time": "2023-09-22T09:41:03.894Z"
   },
   {
    "duration": 6,
    "start_time": "2023-09-22T09:41:12.985Z"
   },
   {
    "duration": 22,
    "start_time": "2023-09-22T09:41:12.994Z"
   },
   {
    "duration": 11,
    "start_time": "2023-09-22T09:41:13.019Z"
   },
   {
    "duration": 12,
    "start_time": "2023-09-22T09:41:13.032Z"
   },
   {
    "duration": 19,
    "start_time": "2023-09-22T09:41:13.047Z"
   },
   {
    "duration": 10,
    "start_time": "2023-09-22T09:41:13.069Z"
   },
   {
    "duration": 16,
    "start_time": "2023-09-22T09:41:13.081Z"
   },
   {
    "duration": 8,
    "start_time": "2023-09-22T09:41:13.099Z"
   },
   {
    "duration": 20,
    "start_time": "2023-09-22T09:41:13.115Z"
   },
   {
    "duration": 32,
    "start_time": "2023-09-22T09:41:13.138Z"
   },
   {
    "duration": 22,
    "start_time": "2023-09-22T09:41:13.173Z"
   },
   {
    "duration": 155429,
    "start_time": "2023-09-22T09:41:13.198Z"
   },
   {
    "duration": 49,
    "start_time": "2023-09-22T09:43:48.630Z"
   },
   {
    "duration": 6,
    "start_time": "2023-09-22T09:43:48.682Z"
   },
   {
    "duration": 79,
    "start_time": "2023-09-22T09:45:35.314Z"
   },
   {
    "duration": 22269,
    "start_time": "2023-09-22T09:55:47.177Z"
   },
   {
    "duration": 30,
    "start_time": "2023-09-22T09:56:23.957Z"
   },
   {
    "duration": 33,
    "start_time": "2023-09-22T09:58:10.922Z"
   },
   {
    "duration": 34,
    "start_time": "2023-09-22T09:58:22.593Z"
   },
   {
    "duration": 3538,
    "start_time": "2023-09-22T10:49:16.340Z"
   },
   {
    "duration": 28,
    "start_time": "2023-09-22T10:49:19.880Z"
   },
   {
    "duration": 3,
    "start_time": "2023-09-22T10:49:19.909Z"
   },
   {
    "duration": 2562,
    "start_time": "2023-09-22T10:49:19.914Z"
   },
   {
    "duration": 3,
    "start_time": "2023-09-22T10:49:22.480Z"
   },
   {
    "duration": 42,
    "start_time": "2023-09-22T10:49:22.486Z"
   },
   {
    "duration": 31,
    "start_time": "2023-09-22T10:49:22.530Z"
   },
   {
    "duration": 8,
    "start_time": "2023-09-22T10:49:22.563Z"
   },
   {
    "duration": 37,
    "start_time": "2023-09-22T10:49:22.573Z"
   },
   {
    "duration": 6,
    "start_time": "2023-09-22T10:49:22.613Z"
   },
   {
    "duration": 142,
    "start_time": "2023-09-22T10:49:22.621Z"
   },
   {
    "duration": 10,
    "start_time": "2023-09-22T10:49:22.765Z"
   },
   {
    "duration": 6,
    "start_time": "2023-09-22T10:49:22.777Z"
   },
   {
    "duration": 1580,
    "start_time": "2023-09-22T10:49:22.786Z"
   },
   {
    "duration": 15,
    "start_time": "2023-09-22T10:49:24.368Z"
   },
   {
    "duration": 25,
    "start_time": "2023-09-22T10:49:24.385Z"
   },
   {
    "duration": 6,
    "start_time": "2023-09-22T10:49:24.412Z"
   },
   {
    "duration": 14,
    "start_time": "2023-09-22T10:49:24.420Z"
   },
   {
    "duration": 232,
    "start_time": "2023-09-22T10:49:24.436Z"
   },
   {
    "duration": 30,
    "start_time": "2023-09-22T10:49:24.669Z"
   },
   {
    "duration": 4,
    "start_time": "2023-09-22T10:49:24.702Z"
   },
   {
    "duration": 8,
    "start_time": "2023-09-22T10:49:24.707Z"
   },
   {
    "duration": 12,
    "start_time": "2023-09-22T10:49:24.716Z"
   },
   {
    "duration": 19,
    "start_time": "2023-09-22T10:49:24.730Z"
   },
   {
    "duration": 5,
    "start_time": "2023-09-22T10:49:24.751Z"
   },
   {
    "duration": 4,
    "start_time": "2023-09-22T10:49:24.758Z"
   },
   {
    "duration": 4,
    "start_time": "2023-09-22T10:49:24.764Z"
   },
   {
    "duration": 4,
    "start_time": "2023-09-22T10:49:24.770Z"
   },
   {
    "duration": 5,
    "start_time": "2023-09-22T10:49:24.776Z"
   },
   {
    "duration": 13,
    "start_time": "2023-09-22T10:49:24.783Z"
   },
   {
    "duration": 11,
    "start_time": "2023-09-22T10:49:24.798Z"
   },
   {
    "duration": 53,
    "start_time": "2023-09-22T10:49:24.811Z"
   },
   {
    "duration": 45,
    "start_time": "2023-09-22T10:49:24.872Z"
   },
   {
    "duration": 8,
    "start_time": "2023-09-22T10:49:24.919Z"
   },
   {
    "duration": 6683,
    "start_time": "2023-09-22T10:49:24.929Z"
   },
   {
    "duration": 204,
    "start_time": "2023-09-22T10:49:31.614Z"
   },
   {
    "duration": 7,
    "start_time": "2023-09-22T10:49:31.820Z"
   },
   {
    "duration": 78,
    "start_time": "2023-09-22T10:49:31.828Z"
   },
   {
    "duration": 95,
    "start_time": "2023-09-22T10:49:31.908Z"
   },
   {
    "duration": 26,
    "start_time": "2023-09-22T10:49:32.005Z"
   },
   {
    "duration": 28,
    "start_time": "2023-09-22T10:49:32.036Z"
   },
   {
    "duration": 2151,
    "start_time": "2023-09-22T10:49:52.468Z"
   },
   {
    "duration": 4,
    "start_time": "2023-09-22T10:51:53.164Z"
   },
   {
    "duration": 3318,
    "start_time": "2023-09-22T10:57:19.800Z"
   },
   {
    "duration": 43,
    "start_time": "2023-09-22T10:57:23.122Z"
   },
   {
    "duration": 2,
    "start_time": "2023-09-22T10:57:23.168Z"
   },
   {
    "duration": 937,
    "start_time": "2023-09-22T10:57:23.173Z"
   },
   {
    "duration": 2,
    "start_time": "2023-09-22T10:57:24.113Z"
   },
   {
    "duration": 50,
    "start_time": "2023-09-22T10:57:24.117Z"
   },
   {
    "duration": 24,
    "start_time": "2023-09-22T10:57:24.169Z"
   },
   {
    "duration": 43,
    "start_time": "2023-09-22T10:57:24.195Z"
   },
   {
    "duration": 45,
    "start_time": "2023-09-22T10:57:24.239Z"
   },
   {
    "duration": 40,
    "start_time": "2023-09-22T10:57:24.286Z"
   },
   {
    "duration": 160,
    "start_time": "2023-09-22T10:57:24.328Z"
   },
   {
    "duration": 9,
    "start_time": "2023-09-22T10:57:24.491Z"
   },
   {
    "duration": 47,
    "start_time": "2023-09-22T10:57:24.502Z"
   },
   {
    "duration": 1665,
    "start_time": "2023-09-22T10:57:24.553Z"
   },
   {
    "duration": 18,
    "start_time": "2023-09-22T10:57:26.220Z"
   },
   {
    "duration": 22,
    "start_time": "2023-09-22T10:57:26.240Z"
   },
   {
    "duration": 50,
    "start_time": "2023-09-22T10:57:26.264Z"
   },
   {
    "duration": 33,
    "start_time": "2023-09-22T10:57:26.316Z"
   },
   {
    "duration": 228,
    "start_time": "2023-09-22T10:57:26.352Z"
   },
   {
    "duration": 40,
    "start_time": "2023-09-22T10:57:26.581Z"
   },
   {
    "duration": 36,
    "start_time": "2023-09-22T10:57:26.623Z"
   },
   {
    "duration": 25,
    "start_time": "2023-09-22T10:57:26.662Z"
   },
   {
    "duration": 54,
    "start_time": "2023-09-22T10:57:26.689Z"
   },
   {
    "duration": 26,
    "start_time": "2023-09-22T10:57:26.745Z"
   },
   {
    "duration": 20,
    "start_time": "2023-09-22T10:57:26.773Z"
   },
   {
    "duration": 44,
    "start_time": "2023-09-22T10:57:26.796Z"
   },
   {
    "duration": 34,
    "start_time": "2023-09-22T10:57:26.842Z"
   },
   {
    "duration": 33,
    "start_time": "2023-09-22T10:57:26.878Z"
   },
   {
    "duration": 21,
    "start_time": "2023-09-22T10:57:26.912Z"
   },
   {
    "duration": 48,
    "start_time": "2023-09-22T10:57:26.935Z"
   },
   {
    "duration": 38,
    "start_time": "2023-09-22T10:57:26.985Z"
   },
   {
    "duration": 69,
    "start_time": "2023-09-22T10:57:27.026Z"
   },
   {
    "duration": 22,
    "start_time": "2023-09-22T10:57:27.097Z"
   },
   {
    "duration": 41,
    "start_time": "2023-09-22T10:57:27.122Z"
   },
   {
    "duration": 2289,
    "start_time": "2023-09-22T10:57:27.165Z"
   },
   {
    "duration": 195,
    "start_time": "2023-09-22T10:57:29.455Z"
   },
   {
    "duration": 59,
    "start_time": "2023-09-22T10:57:29.652Z"
   },
   {
    "duration": 11,
    "start_time": "2023-09-22T10:57:29.713Z"
   },
   {
    "duration": 29,
    "start_time": "2023-09-22T10:57:29.726Z"
   },
   {
    "duration": 34,
    "start_time": "2023-09-22T10:57:29.756Z"
   },
   {
    "duration": 54,
    "start_time": "2023-09-22T10:57:29.794Z"
   },
   {
    "duration": 293,
    "start_time": "2023-09-22T10:58:19.446Z"
   },
   {
    "duration": 122,
    "start_time": "2023-09-22T10:58:19.741Z"
   },
   {
    "duration": 6,
    "start_time": "2023-09-22T10:58:19.989Z"
   },
   {
    "duration": 1927,
    "start_time": "2023-09-22T10:58:25.929Z"
   },
   {
    "duration": 150,
    "start_time": "2023-09-22T10:58:27.909Z"
   },
   {
    "duration": 50,
    "start_time": "2023-09-22T10:58:28.061Z"
   },
   {
    "duration": 5940,
    "start_time": "2023-09-22T10:58:45.108Z"
   },
   {
    "duration": 211,
    "start_time": "2023-09-22T10:58:51.050Z"
   },
   {
    "duration": 51,
    "start_time": "2023-09-22T10:58:51.263Z"
   },
   {
    "duration": 2947,
    "start_time": "2023-09-22T10:59:54.972Z"
   },
   {
    "duration": 193,
    "start_time": "2023-09-22T10:59:57.920Z"
   },
   {
    "duration": 7,
    "start_time": "2023-09-22T10:59:58.115Z"
   },
   {
    "duration": 4312,
    "start_time": "2023-09-22T11:00:41.849Z"
   },
   {
    "duration": 188,
    "start_time": "2023-09-22T11:00:46.163Z"
   },
   {
    "duration": 6,
    "start_time": "2023-09-22T11:00:46.353Z"
   },
   {
    "duration": 26,
    "start_time": "2023-09-22T11:05:25.158Z"
   },
   {
    "duration": 6,
    "start_time": "2023-09-22T11:06:40.839Z"
   },
   {
    "duration": 3205,
    "start_time": "2023-09-22T11:07:01.332Z"
   },
   {
    "duration": 70,
    "start_time": "2023-09-22T11:07:04.539Z"
   },
   {
    "duration": 2,
    "start_time": "2023-09-22T11:07:04.612Z"
   },
   {
    "duration": 1138,
    "start_time": "2023-09-22T11:07:04.615Z"
   },
   {
    "duration": 3,
    "start_time": "2023-09-22T11:07:05.755Z"
   },
   {
    "duration": 31,
    "start_time": "2023-09-22T11:07:05.760Z"
   },
   {
    "duration": 36,
    "start_time": "2023-09-22T11:07:05.793Z"
   },
   {
    "duration": 8,
    "start_time": "2023-09-22T11:07:05.831Z"
   },
   {
    "duration": 15,
    "start_time": "2023-09-22T11:07:05.841Z"
   },
   {
    "duration": 6,
    "start_time": "2023-09-22T11:07:05.858Z"
   },
   {
    "duration": 146,
    "start_time": "2023-09-22T11:07:05.866Z"
   },
   {
    "duration": 57,
    "start_time": "2023-09-22T11:07:06.015Z"
   },
   {
    "duration": 28,
    "start_time": "2023-09-22T11:07:06.074Z"
   },
   {
    "duration": 2547,
    "start_time": "2023-09-22T11:07:06.105Z"
   },
   {
    "duration": 31,
    "start_time": "2023-09-22T11:07:08.654Z"
   },
   {
    "duration": 4,
    "start_time": "2023-09-22T11:07:08.687Z"
   },
   {
    "duration": 28,
    "start_time": "2023-09-22T11:07:08.693Z"
   },
   {
    "duration": 14,
    "start_time": "2023-09-22T11:07:08.723Z"
   },
   {
    "duration": 152,
    "start_time": "2023-09-22T11:07:08.739Z"
   },
   {
    "duration": 206,
    "start_time": "2023-09-22T11:07:08.893Z"
   },
   {
    "duration": 10,
    "start_time": "2023-09-22T11:07:09.100Z"
   },
   {
    "duration": 7,
    "start_time": "2023-09-22T11:07:09.112Z"
   },
   {
    "duration": 8,
    "start_time": "2023-09-22T11:07:09.121Z"
   },
   {
    "duration": 17,
    "start_time": "2023-09-22T11:07:09.131Z"
   },
   {
    "duration": 23,
    "start_time": "2023-09-22T11:07:09.149Z"
   },
   {
    "duration": 13,
    "start_time": "2023-09-22T11:07:09.174Z"
   },
   {
    "duration": 5,
    "start_time": "2023-09-22T11:07:09.189Z"
   },
   {
    "duration": 9,
    "start_time": "2023-09-22T11:07:09.196Z"
   },
   {
    "duration": 15,
    "start_time": "2023-09-22T11:07:09.207Z"
   },
   {
    "duration": 6,
    "start_time": "2023-09-22T11:07:09.225Z"
   },
   {
    "duration": 12,
    "start_time": "2023-09-22T11:07:09.233Z"
   },
   {
    "duration": 2367,
    "start_time": "2023-09-22T11:07:09.247Z"
   },
   {
    "duration": 897,
    "start_time": "2023-09-22T11:07:11.620Z"
   },
   {
    "duration": 101,
    "start_time": "2023-09-22T11:07:12.609Z"
   },
   {
    "duration": 21721,
    "start_time": "2023-09-22T11:07:12.712Z"
   },
   {
    "duration": 2906,
    "start_time": "2023-09-22T11:07:34.435Z"
   },
   {
    "duration": 8,
    "start_time": "2023-09-22T11:07:37.343Z"
   },
   {
    "duration": 161,
    "start_time": "2023-09-22T11:07:37.353Z"
   },
   {
    "duration": 98,
    "start_time": "2023-09-22T11:07:37.517Z"
   },
   {
    "duration": 194,
    "start_time": "2023-09-22T11:07:37.617Z"
   },
   {
    "duration": 6,
    "start_time": "2023-09-22T11:07:37.816Z"
   },
   {
    "duration": 20,
    "start_time": "2023-09-22T11:07:37.824Z"
   },
   {
    "duration": 33,
    "start_time": "2023-09-22T11:07:37.846Z"
   },
   {
    "duration": 2951,
    "start_time": "2023-09-22T11:08:12.222Z"
   },
   {
    "duration": 27,
    "start_time": "2023-09-22T11:08:15.175Z"
   },
   {
    "duration": 26,
    "start_time": "2023-09-22T11:08:15.204Z"
   },
   {
    "duration": 1003,
    "start_time": "2023-09-22T11:08:15.232Z"
   },
   {
    "duration": 2,
    "start_time": "2023-09-22T11:08:16.238Z"
   },
   {
    "duration": 6,
    "start_time": "2023-09-22T11:08:16.242Z"
   },
   {
    "duration": 52,
    "start_time": "2023-09-22T11:08:16.250Z"
   },
   {
    "duration": 13,
    "start_time": "2023-09-22T11:08:16.310Z"
   },
   {
    "duration": 36,
    "start_time": "2023-09-22T11:08:16.325Z"
   },
   {
    "duration": 6,
    "start_time": "2023-09-22T11:08:16.363Z"
   },
   {
    "duration": 145,
    "start_time": "2023-09-22T11:08:16.370Z"
   },
   {
    "duration": 2011,
    "start_time": "2023-09-22T11:08:16.517Z"
   },
   {
    "duration": 12,
    "start_time": "2023-09-22T11:08:18.529Z"
   },
   {
    "duration": 48014,
    "start_time": "2023-09-22T11:08:18.544Z"
   },
   {
    "duration": 679,
    "start_time": "2023-09-22T11:09:06.559Z"
   },
   {
    "duration": 15,
    "start_time": "2023-09-22T11:09:07.240Z"
   },
   {
    "duration": 88,
    "start_time": "2023-09-22T11:09:07.257Z"
   },
   {
    "duration": 4,
    "start_time": "2023-09-22T11:09:07.347Z"
   },
   {
    "duration": 244,
    "start_time": "2023-09-22T11:09:07.353Z"
   },
   {
    "duration": 7394,
    "start_time": "2023-09-22T11:09:07.598Z"
   },
   {
    "duration": 4,
    "start_time": "2023-09-22T11:09:14.994Z"
   },
   {
    "duration": 37,
    "start_time": "2023-09-22T11:09:15.010Z"
   },
   {
    "duration": 44,
    "start_time": "2023-09-22T11:09:15.049Z"
   },
   {
    "duration": 78,
    "start_time": "2023-09-22T11:09:15.095Z"
   },
   {
    "duration": 28,
    "start_time": "2023-09-22T11:09:15.174Z"
   },
   {
    "duration": 26,
    "start_time": "2023-09-22T11:09:15.204Z"
   },
   {
    "duration": 28,
    "start_time": "2023-09-22T11:09:15.232Z"
   },
   {
    "duration": 19,
    "start_time": "2023-09-22T11:09:15.262Z"
   },
   {
    "duration": 27,
    "start_time": "2023-09-22T11:09:15.283Z"
   },
   {
    "duration": 56,
    "start_time": "2023-09-22T11:09:15.312Z"
   },
   {
    "duration": 16,
    "start_time": "2023-09-22T11:09:15.370Z"
   },
   {
    "duration": 145146,
    "start_time": "2023-09-22T11:09:15.388Z"
   },
   {
    "duration": 44402,
    "start_time": "2023-09-22T11:11:40.536Z"
   },
   {
    "duration": 53,
    "start_time": "2023-09-22T11:12:24.940Z"
   },
   {
    "duration": 592023,
    "start_time": "2023-09-22T11:12:25.010Z"
   },
   {
    "duration": 3018,
    "start_time": "2023-09-22T11:22:25.918Z"
   },
   {
    "duration": 26,
    "start_time": "2023-09-22T11:22:28.938Z"
   },
   {
    "duration": 2,
    "start_time": "2023-09-22T11:22:28.966Z"
   },
   {
    "duration": 915,
    "start_time": "2023-09-22T11:22:28.970Z"
   },
   {
    "duration": 3,
    "start_time": "2023-09-22T11:22:29.887Z"
   },
   {
    "duration": 11,
    "start_time": "2023-09-22T11:22:29.891Z"
   },
   {
    "duration": 58,
    "start_time": "2023-09-22T11:22:29.904Z"
   },
   {
    "duration": 15,
    "start_time": "2023-09-22T11:22:29.963Z"
   },
   {
    "duration": 62,
    "start_time": "2023-09-22T11:22:29.979Z"
   },
   {
    "duration": 49,
    "start_time": "2023-09-22T11:22:30.045Z"
   },
   {
    "duration": 210,
    "start_time": "2023-09-22T11:22:30.096Z"
   },
   {
    "duration": 2076,
    "start_time": "2023-09-22T11:22:30.308Z"
   },
   {
    "duration": 97,
    "start_time": "2023-09-22T11:22:32.386Z"
   },
   {
    "duration": 45449,
    "start_time": "2023-09-22T11:22:32.485Z"
   },
   {
    "duration": 699,
    "start_time": "2023-09-22T11:23:17.936Z"
   },
   {
    "duration": 14,
    "start_time": "2023-09-22T11:23:18.637Z"
   },
   {
    "duration": 76,
    "start_time": "2023-09-22T11:23:18.653Z"
   },
   {
    "duration": 4,
    "start_time": "2023-09-22T11:23:18.731Z"
   },
   {
    "duration": 158,
    "start_time": "2023-09-22T11:23:18.737Z"
   },
   {
    "duration": 7252,
    "start_time": "2023-09-22T11:23:18.897Z"
   },
   {
    "duration": 4,
    "start_time": "2023-09-22T11:23:26.151Z"
   },
   {
    "duration": 38,
    "start_time": "2023-09-22T11:23:26.156Z"
   },
   {
    "duration": 15,
    "start_time": "2023-09-22T11:23:26.196Z"
   },
   {
    "duration": 6,
    "start_time": "2023-09-22T11:23:26.213Z"
   },
   {
    "duration": 6,
    "start_time": "2023-09-22T11:23:26.220Z"
   },
   {
    "duration": 9,
    "start_time": "2023-09-22T11:23:26.227Z"
   },
   {
    "duration": 5,
    "start_time": "2023-09-22T11:23:26.238Z"
   },
   {
    "duration": 4,
    "start_time": "2023-09-22T11:23:26.246Z"
   },
   {
    "duration": 9,
    "start_time": "2023-09-22T11:23:26.251Z"
   },
   {
    "duration": 3,
    "start_time": "2023-09-22T11:23:26.262Z"
   },
   {
    "duration": 267,
    "start_time": "2023-09-22T11:23:26.267Z"
   },
   {
    "duration": 124531,
    "start_time": "2023-09-22T11:24:14.032Z"
   },
   {
    "duration": 3198,
    "start_time": "2023-09-22T13:25:31.546Z"
   },
   {
    "duration": 27,
    "start_time": "2023-09-22T13:25:34.746Z"
   },
   {
    "duration": 3,
    "start_time": "2023-09-22T13:25:34.776Z"
   },
   {
    "duration": 2522,
    "start_time": "2023-09-22T13:25:34.780Z"
   },
   {
    "duration": 3,
    "start_time": "2023-09-22T13:25:37.303Z"
   },
   {
    "duration": 15,
    "start_time": "2023-09-22T13:25:37.307Z"
   },
   {
    "duration": 101,
    "start_time": "2023-09-22T13:25:37.323Z"
   },
   {
    "duration": 13,
    "start_time": "2023-09-22T13:25:37.426Z"
   },
   {
    "duration": 45,
    "start_time": "2023-09-22T13:25:37.441Z"
   },
   {
    "duration": 5,
    "start_time": "2023-09-22T13:25:37.489Z"
   },
   {
    "duration": 124,
    "start_time": "2023-09-22T13:25:37.496Z"
   },
   {
    "duration": 2155,
    "start_time": "2023-09-22T13:25:37.621Z"
   },
   {
    "duration": 112,
    "start_time": "2023-09-22T13:25:39.778Z"
   },
   {
    "duration": 46556,
    "start_time": "2023-09-22T13:25:39.892Z"
   },
   {
    "duration": 742,
    "start_time": "2023-09-22T13:26:26.450Z"
   },
   {
    "duration": 2,
    "start_time": "2023-09-22T13:26:27.194Z"
   },
   {
    "duration": 90,
    "start_time": "2023-09-22T13:26:27.198Z"
   },
   {
    "duration": 4,
    "start_time": "2023-09-22T13:26:27.290Z"
   },
   {
    "duration": 229,
    "start_time": "2023-09-22T13:26:27.295Z"
   },
   {
    "duration": 7427,
    "start_time": "2023-09-22T13:26:27.525Z"
   },
   {
    "duration": 4,
    "start_time": "2023-09-22T13:26:34.953Z"
   },
   {
    "duration": 31,
    "start_time": "2023-09-22T13:26:34.959Z"
   },
   {
    "duration": 14,
    "start_time": "2023-09-22T13:26:34.991Z"
   },
   {
    "duration": 12,
    "start_time": "2023-09-22T13:26:35.007Z"
   },
   {
    "duration": 13,
    "start_time": "2023-09-22T13:26:35.021Z"
   },
   {
    "duration": 30,
    "start_time": "2023-09-22T13:26:35.036Z"
   },
   {
    "duration": 6,
    "start_time": "2023-09-22T13:26:35.067Z"
   },
   {
    "duration": 8,
    "start_time": "2023-09-22T13:26:35.076Z"
   },
   {
    "duration": 27,
    "start_time": "2023-09-22T13:26:35.086Z"
   },
   {
    "duration": 34,
    "start_time": "2023-09-22T13:26:35.115Z"
   },
   {
    "duration": 149219,
    "start_time": "2023-09-22T13:26:35.150Z"
   },
   {
    "duration": 47899,
    "start_time": "2023-09-22T13:29:04.371Z"
   },
   {
    "duration": 57,
    "start_time": "2023-09-22T13:29:52.272Z"
   },
   {
    "duration": 150,
    "start_time": "2023-09-22T13:37:29.262Z"
   },
   {
    "duration": 7,
    "start_time": "2023-09-22T13:37:29.415Z"
   },
   {
    "duration": 0,
    "start_time": "2023-09-22T13:37:29.424Z"
   },
   {
    "duration": 87,
    "start_time": "2023-09-22T13:37:50.820Z"
   },
   {
    "duration": 81,
    "start_time": "2023-09-22T13:37:50.909Z"
   },
   {
    "duration": 7,
    "start_time": "2023-09-22T13:37:50.992Z"
   },
   {
    "duration": 0,
    "start_time": "2023-09-22T13:37:51.001Z"
   },
   {
    "duration": 0,
    "start_time": "2023-09-22T13:37:51.002Z"
   },
   {
    "duration": 0,
    "start_time": "2023-09-22T13:37:51.003Z"
   },
   {
    "duration": 0,
    "start_time": "2023-09-22T13:37:51.004Z"
   },
   {
    "duration": 2998,
    "start_time": "2023-09-22T13:38:02.269Z"
   },
   {
    "duration": 34,
    "start_time": "2023-09-22T13:38:05.269Z"
   },
   {
    "duration": 5,
    "start_time": "2023-09-22T13:38:05.305Z"
   },
   {
    "duration": 2497,
    "start_time": "2023-09-22T13:38:05.313Z"
   },
   {
    "duration": 4,
    "start_time": "2023-09-22T13:38:07.811Z"
   },
   {
    "duration": 14,
    "start_time": "2023-09-22T13:38:07.817Z"
   },
   {
    "duration": 47,
    "start_time": "2023-09-22T13:38:07.833Z"
   },
   {
    "duration": 21,
    "start_time": "2023-09-22T13:38:07.882Z"
   },
   {
    "duration": 37,
    "start_time": "2023-09-22T13:38:07.905Z"
   },
   {
    "duration": 6,
    "start_time": "2023-09-22T13:38:07.945Z"
   },
   {
    "duration": 141,
    "start_time": "2023-09-22T13:38:07.953Z"
   },
   {
    "duration": 2111,
    "start_time": "2023-09-22T13:38:08.097Z"
   },
   {
    "duration": 19,
    "start_time": "2023-09-22T13:38:10.210Z"
   },
   {
    "duration": 47216,
    "start_time": "2023-09-22T13:38:10.231Z"
   },
   {
    "duration": 737,
    "start_time": "2023-09-22T13:38:57.448Z"
   },
   {
    "duration": 21,
    "start_time": "2023-09-22T13:38:58.187Z"
   },
   {
    "duration": 87,
    "start_time": "2023-09-22T13:38:58.210Z"
   },
   {
    "duration": 5,
    "start_time": "2023-09-22T13:38:58.299Z"
   },
   {
    "duration": 242,
    "start_time": "2023-09-22T13:38:58.305Z"
   },
   {
    "duration": 7550,
    "start_time": "2023-09-22T13:38:58.549Z"
   },
   {
    "duration": 5,
    "start_time": "2023-09-22T13:39:06.101Z"
   },
   {
    "duration": 33,
    "start_time": "2023-09-22T13:39:06.107Z"
   },
   {
    "duration": 21,
    "start_time": "2023-09-22T13:39:06.142Z"
   },
   {
    "duration": 114,
    "start_time": "2023-09-22T13:39:06.165Z"
   },
   {
    "duration": 18,
    "start_time": "2023-09-22T13:39:06.280Z"
   },
   {
    "duration": 38,
    "start_time": "2023-09-22T13:39:06.300Z"
   },
   {
    "duration": 53,
    "start_time": "2023-09-22T13:39:06.340Z"
   },
   {
    "duration": 39,
    "start_time": "2023-09-22T13:39:06.397Z"
   },
   {
    "duration": 19,
    "start_time": "2023-09-22T13:39:06.438Z"
   },
   {
    "duration": 14,
    "start_time": "2023-09-22T13:39:06.459Z"
   },
   {
    "duration": 148703,
    "start_time": "2023-09-22T13:39:06.474Z"
   },
   {
    "duration": 47587,
    "start_time": "2023-09-22T13:41:35.179Z"
   },
   {
    "duration": 54,
    "start_time": "2023-09-22T13:42:22.768Z"
   },
   {
    "duration": 149772,
    "start_time": "2023-09-22T13:42:22.823Z"
   },
   {
    "duration": 2872,
    "start_time": "2023-09-22T13:57:32.215Z"
   },
   {
    "duration": 28,
    "start_time": "2023-09-22T13:57:35.091Z"
   },
   {
    "duration": 2,
    "start_time": "2023-09-22T13:57:35.121Z"
   },
   {
    "duration": 2497,
    "start_time": "2023-09-22T13:57:35.126Z"
   },
   {
    "duration": 3,
    "start_time": "2023-09-22T13:57:37.626Z"
   },
   {
    "duration": 16,
    "start_time": "2023-09-22T13:57:37.630Z"
   },
   {
    "duration": 58,
    "start_time": "2023-09-22T13:57:37.648Z"
   },
   {
    "duration": 13,
    "start_time": "2023-09-22T13:57:37.708Z"
   },
   {
    "duration": 32,
    "start_time": "2023-09-22T13:57:37.723Z"
   },
   {
    "duration": 7,
    "start_time": "2023-09-22T13:57:37.760Z"
   },
   {
    "duration": 137,
    "start_time": "2023-09-22T13:57:37.769Z"
   },
   {
    "duration": 2088,
    "start_time": "2023-09-22T13:57:37.908Z"
   },
   {
    "duration": 29,
    "start_time": "2023-09-22T13:57:39.997Z"
   },
   {
    "duration": 46427,
    "start_time": "2023-09-22T13:57:40.028Z"
   },
   {
    "duration": 699,
    "start_time": "2023-09-22T13:58:26.456Z"
   },
   {
    "duration": 11,
    "start_time": "2023-09-22T13:58:27.157Z"
   },
   {
    "duration": 80,
    "start_time": "2023-09-22T13:58:27.170Z"
   },
   {
    "duration": 5,
    "start_time": "2023-09-22T13:58:27.252Z"
   },
   {
    "duration": 238,
    "start_time": "2023-09-22T13:58:27.258Z"
   },
   {
    "duration": 7438,
    "start_time": "2023-09-22T13:58:27.497Z"
   },
   {
    "duration": 10,
    "start_time": "2023-09-22T13:58:34.936Z"
   },
   {
    "duration": 11,
    "start_time": "2023-09-22T13:58:34.948Z"
   },
   {
    "duration": 10,
    "start_time": "2023-09-22T13:58:34.960Z"
   },
   {
    "duration": 10,
    "start_time": "2023-09-22T13:58:34.972Z"
   },
   {
    "duration": 11,
    "start_time": "2023-09-22T13:58:34.984Z"
   },
   {
    "duration": 35,
    "start_time": "2023-09-22T13:58:34.996Z"
   },
   {
    "duration": 47,
    "start_time": "2023-09-22T13:58:35.033Z"
   },
   {
    "duration": 111,
    "start_time": "2023-09-22T13:58:35.083Z"
   },
   {
    "duration": 14,
    "start_time": "2023-09-22T13:58:35.197Z"
   },
   {
    "duration": 6,
    "start_time": "2023-09-22T13:58:35.213Z"
   },
   {
    "duration": 149849,
    "start_time": "2023-09-22T13:58:35.222Z"
   },
   {
    "duration": 47403,
    "start_time": "2023-09-22T14:01:05.073Z"
   },
   {
    "duration": 69,
    "start_time": "2023-09-22T14:01:52.478Z"
   },
   {
    "duration": 4077,
    "start_time": "2023-09-22T17:25:52.691Z"
   },
   {
    "duration": 44,
    "start_time": "2023-09-22T17:25:56.771Z"
   },
   {
    "duration": 3,
    "start_time": "2023-09-22T17:25:59.294Z"
   },
   {
    "duration": 3593,
    "start_time": "2023-09-22T17:25:59.803Z"
   },
   {
    "duration": 3,
    "start_time": "2023-09-22T17:26:03.398Z"
   },
   {
    "duration": 8,
    "start_time": "2023-09-22T17:26:03.402Z"
   },
   {
    "duration": 40,
    "start_time": "2023-09-22T17:26:03.411Z"
   },
   {
    "duration": 12,
    "start_time": "2023-09-22T17:26:03.452Z"
   },
   {
    "duration": 31,
    "start_time": "2023-09-22T17:26:03.466Z"
   },
   {
    "duration": 20,
    "start_time": "2023-09-22T17:26:03.498Z"
   },
   {
    "duration": 115,
    "start_time": "2023-09-22T17:26:03.519Z"
   },
   {
    "duration": 1935,
    "start_time": "2023-09-22T17:26:03.636Z"
   },
   {
    "duration": 42,
    "start_time": "2023-09-22T17:26:05.573Z"
   },
   {
    "duration": 767,
    "start_time": "2023-09-22T17:26:52.063Z"
   },
   {
    "duration": 3,
    "start_time": "2023-09-22T17:26:52.831Z"
   },
   {
    "duration": 35,
    "start_time": "2023-09-22T17:26:52.836Z"
   },
   {
    "duration": 16,
    "start_time": "2023-09-22T17:26:52.873Z"
   },
   {
    "duration": 6,
    "start_time": "2023-09-22T17:26:52.890Z"
   },
   {
    "duration": 20,
    "start_time": "2023-09-22T17:26:52.897Z"
   },
   {
    "duration": 7,
    "start_time": "2023-09-22T17:26:52.918Z"
   },
   {
    "duration": 101,
    "start_time": "2023-09-22T17:26:52.926Z"
   },
   {
    "duration": 197,
    "start_time": "2023-09-22T17:26:53.029Z"
   },
   {
    "duration": 4,
    "start_time": "2023-09-22T17:26:53.228Z"
   },
   {
    "duration": 970,
    "start_time": "2023-09-22T17:26:53.234Z"
   },
   {
    "duration": 40,
    "start_time": "2023-09-22T17:26:54.206Z"
   },
   {
    "duration": 8,
    "start_time": "2023-09-22T17:26:54.248Z"
   },
   {
    "duration": 20,
    "start_time": "2023-09-22T17:26:54.258Z"
   },
   {
    "duration": 6,
    "start_time": "2023-09-22T17:26:54.280Z"
   },
   {
    "duration": 6,
    "start_time": "2023-09-22T17:26:54.288Z"
   },
   {
    "duration": 207,
    "start_time": "2023-09-22T17:26:54.296Z"
   },
   {
    "duration": 4,
    "start_time": "2023-09-22T17:26:54.505Z"
   },
   {
    "duration": 3,
    "start_time": "2023-09-22T17:26:54.512Z"
   },
   {
    "duration": 4,
    "start_time": "2023-09-22T17:26:54.517Z"
   },
   {
    "duration": 22,
    "start_time": "2023-09-22T17:26:54.522Z"
   },
   {
    "duration": 15,
    "start_time": "2023-09-22T17:26:54.546Z"
   },
   {
    "duration": 4,
    "start_time": "2023-09-22T17:26:54.566Z"
   },
   {
    "duration": 7,
    "start_time": "2023-09-22T17:26:54.572Z"
   },
   {
    "duration": 10,
    "start_time": "2023-09-22T17:26:54.580Z"
   },
   {
    "duration": 5,
    "start_time": "2023-09-22T17:26:54.591Z"
   },
   {
    "duration": 5,
    "start_time": "2023-09-22T17:26:54.597Z"
   },
   {
    "duration": 2148,
    "start_time": "2023-09-22T17:26:54.603Z"
   },
   {
    "duration": 697,
    "start_time": "2023-09-22T17:26:56.753Z"
   },
   {
    "duration": 99,
    "start_time": "2023-09-22T17:26:57.452Z"
   },
   {
    "duration": 732,
    "start_time": "2023-09-22T17:26:57.554Z"
   },
   {
    "duration": 904,
    "start_time": "2023-09-22T17:26:58.288Z"
   },
   {
    "duration": 57,
    "start_time": "2023-09-22T17:26:59.193Z"
   },
   {
    "duration": 2590,
    "start_time": "2023-09-22T17:27:11.402Z"
   },
   {
    "duration": 166,
    "start_time": "2023-09-22T17:27:26.079Z"
   },
   {
    "duration": 6,
    "start_time": "2023-09-22T17:27:26.345Z"
   },
   {
    "duration": 215,
    "start_time": "2023-09-22T17:27:26.637Z"
   },
   {
    "duration": 6,
    "start_time": "2023-09-22T17:27:26.853Z"
   },
   {
    "duration": 8,
    "start_time": "2023-09-22T17:27:57.868Z"
   },
   {
    "duration": 5,
    "start_time": "2023-09-22T17:27:58.076Z"
   },
   {
    "duration": 7,
    "start_time": "2023-09-22T17:28:03.299Z"
   },
   {
    "duration": 818,
    "start_time": "2023-09-22T17:28:23.931Z"
   },
   {
    "duration": 3,
    "start_time": "2023-09-22T17:28:24.751Z"
   },
   {
    "duration": 5,
    "start_time": "2023-09-22T17:28:24.756Z"
   },
   {
    "duration": 35,
    "start_time": "2023-09-22T17:28:24.916Z"
   },
   {
    "duration": 887,
    "start_time": "2023-09-22T17:28:34.023Z"
   },
   {
    "duration": 3,
    "start_time": "2023-09-22T17:28:34.912Z"
   },
   {
    "duration": 31,
    "start_time": "2023-09-22T17:28:34.918Z"
   },
   {
    "duration": 20,
    "start_time": "2023-09-22T17:28:34.953Z"
   },
   {
    "duration": 6,
    "start_time": "2023-09-22T17:28:34.974Z"
   },
   {
    "duration": 20,
    "start_time": "2023-09-22T17:28:34.982Z"
   },
   {
    "duration": 28,
    "start_time": "2023-09-22T17:28:35.004Z"
   },
   {
    "duration": 122,
    "start_time": "2023-09-22T17:28:35.034Z"
   },
   {
    "duration": 543,
    "start_time": "2023-09-22T17:28:35.158Z"
   },
   {
    "duration": 20,
    "start_time": "2023-09-22T17:28:35.703Z"
   },
   {
    "duration": 10753,
    "start_time": "2023-09-22T17:28:35.725Z"
   },
   {
    "duration": 233,
    "start_time": "2023-09-22T17:28:46.480Z"
   },
   {
    "duration": 3,
    "start_time": "2023-09-22T17:28:46.715Z"
   },
   {
    "duration": 29,
    "start_time": "2023-09-22T17:28:46.720Z"
   },
   {
    "duration": 4,
    "start_time": "2023-09-22T17:28:46.751Z"
   },
   {
    "duration": 10,
    "start_time": "2023-09-22T17:28:46.757Z"
   },
   {
    "duration": 1978,
    "start_time": "2023-09-22T17:28:46.769Z"
   },
   {
    "duration": 5,
    "start_time": "2023-09-22T17:28:48.749Z"
   },
   {
    "duration": 14,
    "start_time": "2023-09-22T17:28:48.756Z"
   },
   {
    "duration": 16,
    "start_time": "2023-09-22T17:28:48.772Z"
   },
   {
    "duration": 10,
    "start_time": "2023-09-22T17:28:48.790Z"
   },
   {
    "duration": 19,
    "start_time": "2023-09-22T17:28:48.802Z"
   },
   {
    "duration": 13,
    "start_time": "2023-09-22T17:28:48.822Z"
   },
   {
    "duration": 12,
    "start_time": "2023-09-22T17:28:48.837Z"
   },
   {
    "duration": 21,
    "start_time": "2023-09-22T17:28:48.850Z"
   },
   {
    "duration": 25,
    "start_time": "2023-09-22T17:28:48.873Z"
   },
   {
    "duration": 14,
    "start_time": "2023-09-22T17:28:48.900Z"
   },
   {
    "duration": 35129,
    "start_time": "2023-09-22T17:28:48.917Z"
   },
   {
    "duration": 7397,
    "start_time": "2023-09-22T17:29:24.048Z"
   },
   {
    "duration": 104,
    "start_time": "2023-09-22T17:29:31.447Z"
   },
   {
    "duration": 15710,
    "start_time": "2023-09-22T17:29:31.553Z"
   },
   {
    "duration": 54017,
    "start_time": "2023-09-22T17:29:47.265Z"
   },
   {
    "duration": 79,
    "start_time": "2023-09-22T17:30:41.283Z"
   },
   {
    "duration": 2821,
    "start_time": "2023-09-22T17:33:57.628Z"
   },
   {
    "duration": 24,
    "start_time": "2023-09-22T17:34:00.452Z"
   },
   {
    "duration": 35,
    "start_time": "2023-09-22T17:34:00.480Z"
   },
   {
    "duration": 880,
    "start_time": "2023-09-22T17:34:00.517Z"
   },
   {
    "duration": 3,
    "start_time": "2023-09-22T17:34:01.399Z"
   },
   {
    "duration": 70,
    "start_time": "2023-09-22T17:34:01.404Z"
   },
   {
    "duration": 60,
    "start_time": "2023-09-22T17:34:01.477Z"
   },
   {
    "duration": 37,
    "start_time": "2023-09-22T17:34:01.539Z"
   },
   {
    "duration": 83,
    "start_time": "2023-09-22T17:34:01.580Z"
   },
   {
    "duration": 66,
    "start_time": "2023-09-22T17:34:01.665Z"
   },
   {
    "duration": 162,
    "start_time": "2023-09-22T17:34:01.733Z"
   },
   {
    "duration": 1054,
    "start_time": "2023-09-22T17:34:01.897Z"
   },
   {
    "duration": 8,
    "start_time": "2023-09-22T17:34:02.953Z"
   },
   {
    "duration": 22633,
    "start_time": "2023-09-22T17:34:02.963Z"
   },
   {
    "duration": 435,
    "start_time": "2023-09-22T17:34:25.598Z"
   },
   {
    "duration": 11,
    "start_time": "2023-09-22T17:34:26.035Z"
   },
   {
    "duration": 58,
    "start_time": "2023-09-22T17:34:26.049Z"
   },
   {
    "duration": 5,
    "start_time": "2023-09-22T17:34:26.109Z"
   },
   {
    "duration": 267,
    "start_time": "2023-09-22T17:34:26.116Z"
   },
   {
    "duration": 3276,
    "start_time": "2023-09-22T17:34:26.385Z"
   },
   {
    "duration": 5,
    "start_time": "2023-09-22T17:34:29.663Z"
   },
   {
    "duration": 5,
    "start_time": "2023-09-22T17:34:29.669Z"
   },
   {
    "duration": 5,
    "start_time": "2023-09-22T17:34:29.676Z"
   },
   {
    "duration": 6,
    "start_time": "2023-09-22T17:34:29.682Z"
   },
   {
    "duration": 18,
    "start_time": "2023-09-22T17:34:29.689Z"
   },
   {
    "duration": 28,
    "start_time": "2023-09-22T17:34:29.708Z"
   },
   {
    "duration": 17,
    "start_time": "2023-09-22T17:34:29.739Z"
   },
   {
    "duration": 17,
    "start_time": "2023-09-22T17:34:29.758Z"
   },
   {
    "duration": 9,
    "start_time": "2023-09-22T17:34:29.776Z"
   },
   {
    "duration": 14,
    "start_time": "2023-09-22T17:34:29.786Z"
   },
   {
    "duration": 78543,
    "start_time": "2023-09-22T17:34:29.802Z"
   },
   {
    "duration": 26010,
    "start_time": "2023-09-22T17:35:48.347Z"
   },
   {
    "duration": 36,
    "start_time": "2023-09-22T17:36:14.444Z"
   },
   {
    "duration": 43323,
    "start_time": "2023-09-22T17:36:14.482Z"
   },
   {
    "duration": 131796,
    "start_time": "2023-09-22T17:36:57.807Z"
   },
   {
    "duration": 137,
    "start_time": "2023-09-22T17:39:09.643Z"
   },
   {
    "duration": 16665,
    "start_time": "2023-09-22T17:39:09.781Z"
   },
   {
    "duration": 11,
    "start_time": "2023-09-22T17:39:26.447Z"
   },
   {
    "duration": 16805,
    "start_time": "2023-09-22T17:39:26.460Z"
   },
   {
    "duration": 37,
    "start_time": "2023-09-22T17:39:43.267Z"
   },
   {
    "duration": 26,
    "start_time": "2023-09-22T17:39:43.345Z"
   },
   {
    "duration": 48003,
    "start_time": "2023-09-22T17:40:50.883Z"
   },
   {
    "duration": 18587,
    "start_time": "2023-09-22T17:42:21.745Z"
   },
   {
    "duration": 2,
    "start_time": "2023-09-22T17:42:58.339Z"
   },
   {
    "duration": 13,
    "start_time": "2023-09-22T17:45:56.482Z"
   },
   {
    "duration": 18,
    "start_time": "2023-09-22T17:46:23.253Z"
   },
   {
    "duration": 19,
    "start_time": "2023-09-22T17:46:43.316Z"
   },
   {
    "duration": 17,
    "start_time": "2023-09-22T17:46:58.994Z"
   },
   {
    "duration": 17,
    "start_time": "2023-09-22T17:47:16.695Z"
   },
   {
    "duration": 61,
    "start_time": "2023-09-22T17:49:19.102Z"
   },
   {
    "duration": 17,
    "start_time": "2023-09-22T17:49:40.450Z"
   },
   {
    "duration": 135,
    "start_time": "2023-09-22T17:50:22.349Z"
   },
   {
    "duration": 16399,
    "start_time": "2023-09-22T17:50:31.115Z"
   },
   {
    "duration": 55,
    "start_time": "2023-09-22T17:50:47.516Z"
   },
   {
    "duration": 132,
    "start_time": "2023-09-22T17:54:42.990Z"
   },
   {
    "duration": 33,
    "start_time": "2023-09-22T17:55:03.011Z"
   },
   {
    "duration": 142,
    "start_time": "2023-09-22T17:55:07.545Z"
   },
   {
    "duration": 103359,
    "start_time": "2023-09-22T17:55:21.048Z"
   },
   {
    "duration": 3,
    "start_time": "2023-09-22T17:58:42.097Z"
   },
   {
    "duration": 12,
    "start_time": "2023-09-22T17:59:30.823Z"
   },
   {
    "duration": 100,
    "start_time": "2023-09-22T18:00:33.283Z"
   },
   {
    "duration": 290,
    "start_time": "2023-09-22T18:00:42.388Z"
   },
   {
    "duration": 120,
    "start_time": "2023-09-22T18:02:49.879Z"
   },
   {
    "duration": 12,
    "start_time": "2023-09-22T18:02:50.088Z"
   },
   {
    "duration": 429,
    "start_time": "2023-09-22T18:03:07.092Z"
   },
   {
    "duration": 108,
    "start_time": "2023-09-22T18:03:19.173Z"
   },
   {
    "duration": 2742,
    "start_time": "2023-09-22T18:03:38.611Z"
   },
   {
    "duration": 23,
    "start_time": "2023-09-22T18:03:41.356Z"
   },
   {
    "duration": 2,
    "start_time": "2023-09-22T18:03:41.380Z"
   },
   {
    "duration": 837,
    "start_time": "2023-09-22T18:03:41.383Z"
   },
   {
    "duration": 3,
    "start_time": "2023-09-22T18:03:42.223Z"
   },
   {
    "duration": 6,
    "start_time": "2023-09-22T18:03:42.228Z"
   },
   {
    "duration": 47,
    "start_time": "2023-09-22T18:03:42.244Z"
   },
   {
    "duration": 18,
    "start_time": "2023-09-22T18:03:42.293Z"
   },
   {
    "duration": 49,
    "start_time": "2023-09-22T18:03:42.312Z"
   },
   {
    "duration": 4,
    "start_time": "2023-09-22T18:03:42.363Z"
   },
   {
    "duration": 121,
    "start_time": "2023-09-22T18:03:42.368Z"
   },
   {
    "duration": 1973,
    "start_time": "2023-09-22T18:03:42.490Z"
   },
   {
    "duration": 4,
    "start_time": "2023-09-22T18:03:44.465Z"
   },
   {
    "duration": 39123,
    "start_time": "2023-09-22T18:03:44.472Z"
   },
   {
    "duration": 706,
    "start_time": "2023-09-22T18:04:23.596Z"
   },
   {
    "duration": 3,
    "start_time": "2023-09-22T18:04:24.304Z"
   },
   {
    "duration": 81,
    "start_time": "2023-09-22T18:04:24.309Z"
   },
   {
    "duration": 5,
    "start_time": "2023-09-22T18:04:24.392Z"
   },
   {
    "duration": 218,
    "start_time": "2023-09-22T18:04:24.399Z"
   },
   {
    "duration": 6311,
    "start_time": "2023-09-22T18:04:24.619Z"
   },
   {
    "duration": 4,
    "start_time": "2023-09-22T18:04:30.931Z"
   },
   {
    "duration": 35,
    "start_time": "2023-09-22T18:04:30.937Z"
   },
   {
    "duration": 30,
    "start_time": "2023-09-22T18:04:30.974Z"
   },
   {
    "duration": 21,
    "start_time": "2023-09-22T18:04:31.006Z"
   },
   {
    "duration": 32,
    "start_time": "2023-09-22T18:04:31.029Z"
   },
   {
    "duration": 32,
    "start_time": "2023-09-22T18:04:31.063Z"
   },
   {
    "duration": 29,
    "start_time": "2023-09-22T18:04:31.097Z"
   },
   {
    "duration": 23,
    "start_time": "2023-09-22T18:04:31.127Z"
   },
   {
    "duration": 23,
    "start_time": "2023-09-22T18:04:31.152Z"
   },
   {
    "duration": 20,
    "start_time": "2023-09-22T18:04:31.177Z"
   },
   {
    "duration": 139174,
    "start_time": "2023-09-22T18:04:31.199Z"
   },
   {
    "duration": 45194,
    "start_time": "2023-09-22T18:06:50.375Z"
   },
   {
    "duration": 45,
    "start_time": "2023-09-22T18:07:35.570Z"
   },
   {
    "duration": 201651,
    "start_time": "2023-09-22T18:07:35.617Z"
   },
   {
    "duration": 783,
    "start_time": "2023-09-22T18:10:57.270Z"
   },
   {
    "duration": 138256,
    "start_time": "2023-09-22T18:10:58.055Z"
   },
   {
    "duration": 1093,
    "start_time": "2023-09-22T18:13:16.314Z"
   },
   {
    "duration": 2,
    "start_time": "2023-09-22T18:13:17.409Z"
   },
   {
    "duration": 26558,
    "start_time": "2023-09-22T18:13:17.413Z"
   },
   {
    "duration": 22,
    "start_time": "2023-09-22T18:13:43.973Z"
   },
   {
    "duration": 306,
    "start_time": "2023-09-22T18:13:44.000Z"
   },
   {
    "duration": 11,
    "start_time": "2023-09-22T18:13:44.307Z"
   },
   {
    "duration": 0,
    "start_time": "2023-09-22T18:13:44.319Z"
   },
   {
    "duration": 0,
    "start_time": "2023-09-22T18:13:44.320Z"
   },
   {
    "duration": 0,
    "start_time": "2023-09-22T18:13:44.321Z"
   },
   {
    "duration": 0,
    "start_time": "2023-09-22T18:13:44.322Z"
   },
   {
    "duration": 139,
    "start_time": "2023-09-22T20:30:47.819Z"
   },
   {
    "duration": 3824,
    "start_time": "2023-09-22T20:30:56.236Z"
   },
   {
    "duration": 35,
    "start_time": "2023-09-22T20:31:00.065Z"
   },
   {
    "duration": 141,
    "start_time": "2023-09-22T20:31:00.112Z"
   },
   {
    "duration": 3069,
    "start_time": "2023-09-22T20:31:00.255Z"
   },
   {
    "duration": 3,
    "start_time": "2023-09-22T20:31:03.326Z"
   },
   {
    "duration": 390,
    "start_time": "2023-09-22T20:31:03.330Z"
   },
   {
    "duration": 251,
    "start_time": "2023-09-22T20:31:03.722Z"
   },
   {
    "duration": 374,
    "start_time": "2023-09-22T20:31:03.975Z"
   },
   {
    "duration": 75,
    "start_time": "2023-09-22T20:31:04.351Z"
   },
   {
    "duration": 13,
    "start_time": "2023-09-22T20:31:04.428Z"
   },
   {
    "duration": 191,
    "start_time": "2023-09-22T20:31:04.443Z"
   },
   {
    "duration": 2226,
    "start_time": "2023-09-22T20:31:04.636Z"
   },
   {
    "duration": 42,
    "start_time": "2023-09-22T20:31:06.865Z"
   },
   {
    "duration": 51057,
    "start_time": "2023-09-22T20:31:06.909Z"
   },
   {
    "duration": 822,
    "start_time": "2023-09-22T20:31:57.969Z"
   },
   {
    "duration": 14,
    "start_time": "2023-09-22T20:31:58.793Z"
   },
   {
    "duration": 82,
    "start_time": "2023-09-22T20:31:58.808Z"
   },
   {
    "duration": 4,
    "start_time": "2023-09-22T20:31:58.892Z"
   },
   {
    "duration": 235,
    "start_time": "2023-09-22T20:31:58.898Z"
   },
   {
    "duration": 8397,
    "start_time": "2023-09-22T20:31:59.135Z"
   },
   {
    "duration": 5,
    "start_time": "2023-09-22T20:32:07.535Z"
   },
   {
    "duration": 30,
    "start_time": "2023-09-22T20:32:07.542Z"
   },
   {
    "duration": 22,
    "start_time": "2023-09-22T20:32:07.574Z"
   },
   {
    "duration": 33,
    "start_time": "2023-09-22T20:32:07.597Z"
   },
   {
    "duration": 21,
    "start_time": "2023-09-22T20:32:07.631Z"
   },
   {
    "duration": 18,
    "start_time": "2023-09-22T20:32:07.655Z"
   },
   {
    "duration": 60,
    "start_time": "2023-09-22T20:32:07.675Z"
   },
   {
    "duration": 51,
    "start_time": "2023-09-22T20:32:07.738Z"
   },
   {
    "duration": 39,
    "start_time": "2023-09-22T20:32:07.791Z"
   },
   {
    "duration": 23,
    "start_time": "2023-09-22T20:32:07.832Z"
   },
   {
    "duration": 139591,
    "start_time": "2023-09-22T20:32:07.857Z"
   },
   {
    "duration": 43288,
    "start_time": "2023-09-22T20:34:27.450Z"
   },
   {
    "duration": 72,
    "start_time": "2023-09-22T20:35:10.741Z"
   },
   {
    "duration": 280246,
    "start_time": "2023-09-22T20:35:10.827Z"
   },
   {
    "duration": 1112,
    "start_time": "2023-09-22T20:39:51.075Z"
   },
   {
    "duration": 208601,
    "start_time": "2023-09-22T20:39:52.189Z"
   },
   {
    "duration": 1654,
    "start_time": "2023-09-22T20:43:20.793Z"
   },
   {
    "duration": 3,
    "start_time": "2023-09-22T20:43:22.450Z"
   },
   {
    "duration": 23970,
    "start_time": "2023-09-22T20:43:22.454Z"
   },
   {
    "duration": 31,
    "start_time": "2023-09-22T20:43:46.429Z"
   },
   {
    "duration": 5261,
    "start_time": "2023-09-22T20:43:46.461Z"
   },
   {
    "duration": 350,
    "start_time": "2023-09-22T20:43:51.724Z"
   },
   {
    "duration": 80452,
    "start_time": "2023-09-22T20:43:52.076Z"
   },
   {
    "duration": 516,
    "start_time": "2023-09-22T20:45:12.531Z"
   },
   {
    "duration": 85,
    "start_time": "2023-09-22T20:45:13.050Z"
   },
   {
    "duration": 8,
    "start_time": "2023-09-22T20:45:13.139Z"
   },
   {
    "duration": 71,
    "start_time": "2023-09-22T20:45:19.779Z"
   },
   {
    "duration": 10,
    "start_time": "2023-09-22T20:45:36.234Z"
   },
   {
    "duration": 10,
    "start_time": "2023-09-22T20:45:53.589Z"
   },
   {
    "duration": 33,
    "start_time": "2023-09-22T20:45:58.969Z"
   },
   {
    "duration": 19,
    "start_time": "2023-09-22T20:46:02.016Z"
   },
   {
    "duration": 13,
    "start_time": "2023-09-22T20:46:07.725Z"
   },
   {
    "duration": 3,
    "start_time": "2023-09-22T20:46:44.333Z"
   },
   {
    "duration": 358,
    "start_time": "2023-09-22T20:46:49.452Z"
   },
   {
    "duration": 535,
    "start_time": "2023-09-22T20:46:54.607Z"
   },
   {
    "duration": 34,
    "start_time": "2023-09-22T20:47:05.155Z"
   },
   {
    "duration": 9,
    "start_time": "2023-09-22T20:47:15.835Z"
   },
   {
    "duration": 3,
    "start_time": "2023-09-22T20:47:28.961Z"
   },
   {
    "duration": 24,
    "start_time": "2023-09-22T20:47:32.537Z"
   },
   {
    "duration": 341,
    "start_time": "2023-09-22T20:47:35.358Z"
   },
   {
    "duration": 478,
    "start_time": "2023-09-22T20:47:39.455Z"
   },
   {
    "duration": 33,
    "start_time": "2023-09-22T20:47:43.734Z"
   },
   {
    "duration": 12,
    "start_time": "2023-09-22T20:47:45.246Z"
   },
   {
    "duration": 153,
    "start_time": "2023-09-23T06:57:20.566Z"
   },
   {
    "duration": 3407,
    "start_time": "2023-09-23T06:57:29.778Z"
   },
   {
    "duration": 27,
    "start_time": "2023-09-23T06:57:33.187Z"
   },
   {
    "duration": 2,
    "start_time": "2023-09-23T06:57:33.216Z"
   },
   {
    "duration": 2451,
    "start_time": "2023-09-23T06:57:33.220Z"
   },
   {
    "duration": 4,
    "start_time": "2023-09-23T06:57:35.673Z"
   },
   {
    "duration": 20,
    "start_time": "2023-09-23T06:57:35.679Z"
   },
   {
    "duration": 61,
    "start_time": "2023-09-23T06:57:35.701Z"
   },
   {
    "duration": 16,
    "start_time": "2023-09-23T06:57:35.764Z"
   },
   {
    "duration": 45,
    "start_time": "2023-09-23T06:57:35.781Z"
   },
   {
    "duration": 4,
    "start_time": "2023-09-23T06:57:35.830Z"
   },
   {
    "duration": 261,
    "start_time": "2023-09-23T06:57:35.836Z"
   },
   {
    "duration": 3,
    "start_time": "2023-09-23T06:57:36.099Z"
   },
   {
    "duration": 15,
    "start_time": "2023-09-23T06:57:36.104Z"
   },
   {
    "duration": 155,
    "start_time": "2023-09-23T06:57:36.121Z"
   },
   {
    "duration": 0,
    "start_time": "2023-09-23T06:57:36.278Z"
   },
   {
    "duration": 0,
    "start_time": "2023-09-23T06:57:36.279Z"
   },
   {
    "duration": 0,
    "start_time": "2023-09-23T06:57:36.280Z"
   },
   {
    "duration": 0,
    "start_time": "2023-09-23T06:57:36.281Z"
   },
   {
    "duration": 0,
    "start_time": "2023-09-23T06:57:36.283Z"
   },
   {
    "duration": 0,
    "start_time": "2023-09-23T06:57:36.284Z"
   },
   {
    "duration": 0,
    "start_time": "2023-09-23T06:57:36.285Z"
   },
   {
    "duration": 0,
    "start_time": "2023-09-23T06:57:36.286Z"
   },
   {
    "duration": 0,
    "start_time": "2023-09-23T06:57:36.287Z"
   },
   {
    "duration": 0,
    "start_time": "2023-09-23T06:57:36.289Z"
   },
   {
    "duration": 0,
    "start_time": "2023-09-23T06:57:36.290Z"
   },
   {
    "duration": 0,
    "start_time": "2023-09-23T06:57:36.291Z"
   },
   {
    "duration": 0,
    "start_time": "2023-09-23T06:57:36.292Z"
   },
   {
    "duration": 0,
    "start_time": "2023-09-23T06:57:36.293Z"
   },
   {
    "duration": 0,
    "start_time": "2023-09-23T06:57:36.294Z"
   },
   {
    "duration": 0,
    "start_time": "2023-09-23T06:57:36.295Z"
   },
   {
    "duration": 0,
    "start_time": "2023-09-23T06:57:36.297Z"
   },
   {
    "duration": 0,
    "start_time": "2023-09-23T06:57:36.298Z"
   },
   {
    "duration": 0,
    "start_time": "2023-09-23T06:57:36.299Z"
   },
   {
    "duration": 2204,
    "start_time": "2023-09-23T07:02:55.302Z"
   },
   {
    "duration": 5,
    "start_time": "2023-09-23T07:03:01.028Z"
   },
   {
    "duration": 38,
    "start_time": "2023-09-23T07:05:04.264Z"
   },
   {
    "duration": 374,
    "start_time": "2023-09-23T07:05:21.874Z"
   },
   {
    "duration": 14860,
    "start_time": "2023-09-23T07:05:33.079Z"
   },
   {
    "duration": 2899,
    "start_time": "2023-09-23T07:06:11.454Z"
   },
   {
    "duration": 26,
    "start_time": "2023-09-23T07:06:14.357Z"
   },
   {
    "duration": 3,
    "start_time": "2023-09-23T07:06:14.385Z"
   },
   {
    "duration": 960,
    "start_time": "2023-09-23T07:06:14.391Z"
   },
   {
    "duration": 3,
    "start_time": "2023-09-23T07:06:15.353Z"
   },
   {
    "duration": 10,
    "start_time": "2023-09-23T07:06:15.358Z"
   },
   {
    "duration": 54,
    "start_time": "2023-09-23T07:06:15.369Z"
   },
   {
    "duration": 21,
    "start_time": "2023-09-23T07:06:15.425Z"
   },
   {
    "duration": 31,
    "start_time": "2023-09-23T07:06:15.448Z"
   },
   {
    "duration": 4,
    "start_time": "2023-09-23T07:06:15.481Z"
   },
   {
    "duration": 142,
    "start_time": "2023-09-23T07:06:15.487Z"
   },
   {
    "duration": 2,
    "start_time": "2023-09-23T07:06:15.631Z"
   },
   {
    "duration": 13,
    "start_time": "2023-09-23T07:06:15.635Z"
   },
   {
    "duration": 216,
    "start_time": "2023-09-23T07:06:15.649Z"
   },
   {
    "duration": 41954,
    "start_time": "2023-09-23T07:06:30.243Z"
   },
   {
    "duration": 10,
    "start_time": "2023-09-23T07:19:33.688Z"
   },
   {
    "duration": 2901,
    "start_time": "2023-09-23T07:19:49.378Z"
   },
   {
    "duration": 32,
    "start_time": "2023-09-23T07:19:52.283Z"
   },
   {
    "duration": 3,
    "start_time": "2023-09-23T07:19:52.317Z"
   },
   {
    "duration": 970,
    "start_time": "2023-09-23T07:19:52.322Z"
   },
   {
    "duration": 3,
    "start_time": "2023-09-23T07:19:53.294Z"
   },
   {
    "duration": 31,
    "start_time": "2023-09-23T07:19:53.299Z"
   },
   {
    "duration": 100,
    "start_time": "2023-09-23T07:19:53.332Z"
   },
   {
    "duration": 28,
    "start_time": "2023-09-23T07:19:53.434Z"
   },
   {
    "duration": 48,
    "start_time": "2023-09-23T07:19:53.464Z"
   },
   {
    "duration": 24,
    "start_time": "2023-09-23T07:19:53.515Z"
   },
   {
    "duration": 170,
    "start_time": "2023-09-23T07:19:53.541Z"
   },
   {
    "duration": 2,
    "start_time": "2023-09-23T07:19:53.713Z"
   },
   {
    "duration": 29,
    "start_time": "2023-09-23T07:19:53.717Z"
   },
   {
    "duration": 41353,
    "start_time": "2023-09-23T07:19:53.748Z"
   },
   {
    "duration": 10,
    "start_time": "2023-09-23T07:20:35.103Z"
   },
   {
    "duration": 193,
    "start_time": "2023-09-23T07:22:43.565Z"
   },
   {
    "duration": 13,
    "start_time": "2023-09-23T07:22:48.029Z"
   },
   {
    "duration": 41839,
    "start_time": "2023-09-23T07:23:05.297Z"
   },
   {
    "duration": 0,
    "start_time": "2023-09-23T07:23:47.138Z"
   },
   {
    "duration": 42053,
    "start_time": "2023-09-23T07:24:43.854Z"
   },
   {
    "duration": 10,
    "start_time": "2023-09-23T07:25:25.910Z"
   },
   {
    "duration": 2,
    "start_time": "2023-09-23T07:26:44.526Z"
   },
   {
    "duration": 3045,
    "start_time": "2023-09-23T07:27:08.692Z"
   },
   {
    "duration": 25,
    "start_time": "2023-09-23T07:27:11.741Z"
   },
   {
    "duration": 3,
    "start_time": "2023-09-23T07:27:11.768Z"
   },
   {
    "duration": 1083,
    "start_time": "2023-09-23T07:27:11.774Z"
   },
   {
    "duration": 3,
    "start_time": "2023-09-23T07:27:12.859Z"
   },
   {
    "duration": 34,
    "start_time": "2023-09-23T07:27:12.864Z"
   },
   {
    "duration": 46,
    "start_time": "2023-09-23T07:27:12.900Z"
   },
   {
    "duration": 5,
    "start_time": "2023-09-23T07:27:12.948Z"
   },
   {
    "duration": 23,
    "start_time": "2023-09-23T07:27:12.955Z"
   },
   {
    "duration": 15,
    "start_time": "2023-09-23T07:27:12.981Z"
   },
   {
    "duration": 135,
    "start_time": "2023-09-23T07:27:12.998Z"
   },
   {
    "duration": 3,
    "start_time": "2023-09-23T07:27:13.134Z"
   },
   {
    "duration": 15,
    "start_time": "2023-09-23T07:27:13.146Z"
   },
   {
    "duration": 2634,
    "start_time": "2023-09-23T07:27:13.163Z"
   },
   {
    "duration": 13,
    "start_time": "2023-09-23T07:27:15.800Z"
   },
   {
    "duration": 6,
    "start_time": "2023-09-23T07:34:19.591Z"
   },
   {
    "duration": 5,
    "start_time": "2023-09-23T07:34:20.798Z"
   },
   {
    "duration": 968,
    "start_time": "2023-09-23T07:34:21.132Z"
   },
   {
    "duration": 2450,
    "start_time": "2023-09-23T07:34:25.145Z"
   },
   {
    "duration": 3104,
    "start_time": "2023-09-23T07:34:42.738Z"
   },
   {
    "duration": 27,
    "start_time": "2023-09-23T07:34:45.846Z"
   },
   {
    "duration": 71,
    "start_time": "2023-09-23T07:34:45.875Z"
   },
   {
    "duration": 955,
    "start_time": "2023-09-23T07:34:45.948Z"
   },
   {
    "duration": 3,
    "start_time": "2023-09-23T07:34:46.905Z"
   },
   {
    "duration": 31,
    "start_time": "2023-09-23T07:34:46.909Z"
   },
   {
    "duration": 23,
    "start_time": "2023-09-23T07:34:46.943Z"
   },
   {
    "duration": 4,
    "start_time": "2023-09-23T07:34:46.968Z"
   },
   {
    "duration": 84,
    "start_time": "2023-09-23T07:34:46.974Z"
   },
   {
    "duration": 4,
    "start_time": "2023-09-23T07:34:47.061Z"
   },
   {
    "duration": 128,
    "start_time": "2023-09-23T07:34:47.067Z"
   },
   {
    "duration": 5,
    "start_time": "2023-09-23T07:34:47.198Z"
   },
   {
    "duration": 7,
    "start_time": "2023-09-23T07:34:47.205Z"
   },
   {
    "duration": 2428,
    "start_time": "2023-09-23T07:34:47.214Z"
   },
   {
    "duration": 1919,
    "start_time": "2023-09-23T07:34:49.644Z"
   },
   {
    "duration": 12,
    "start_time": "2023-09-23T07:35:02.662Z"
   },
   {
    "duration": 13,
    "start_time": "2023-09-23T07:35:14.299Z"
   },
   {
    "duration": 5,
    "start_time": "2023-09-23T07:38:17.423Z"
   },
   {
    "duration": 7,
    "start_time": "2023-09-23T07:43:41.277Z"
   },
   {
    "duration": 491,
    "start_time": "2023-09-23T07:43:51.376Z"
   },
   {
    "duration": 5,
    "start_time": "2023-09-23T07:44:28.228Z"
   },
   {
    "duration": 526,
    "start_time": "2023-09-23T07:44:31.625Z"
   },
   {
    "duration": 456,
    "start_time": "2023-09-23T07:45:06.250Z"
   },
   {
    "duration": 30964,
    "start_time": "2023-09-23T07:45:10.703Z"
   },
   {
    "duration": 31059,
    "start_time": "2023-09-23T07:46:04.472Z"
   },
   {
    "duration": 14,
    "start_time": "2023-09-23T07:46:39.961Z"
   },
   {
    "duration": 18,
    "start_time": "2023-09-23T07:46:47.583Z"
   },
   {
    "duration": 9,
    "start_time": "2023-09-23T07:47:23.451Z"
   },
   {
    "duration": 79,
    "start_time": "2023-09-23T07:49:28.459Z"
   },
   {
    "duration": 3230,
    "start_time": "2023-09-23T07:53:43.016Z"
   },
   {
    "duration": 26,
    "start_time": "2023-09-23T07:53:46.250Z"
   },
   {
    "duration": 2,
    "start_time": "2023-09-23T07:53:46.278Z"
   },
   {
    "duration": 949,
    "start_time": "2023-09-23T07:53:46.282Z"
   },
   {
    "duration": 3,
    "start_time": "2023-09-23T07:53:47.233Z"
   },
   {
    "duration": 30,
    "start_time": "2023-09-23T07:53:47.238Z"
   },
   {
    "duration": 22,
    "start_time": "2023-09-23T07:53:47.271Z"
   },
   {
    "duration": 4,
    "start_time": "2023-09-23T07:53:47.295Z"
   },
   {
    "duration": 19,
    "start_time": "2023-09-23T07:53:47.301Z"
   },
   {
    "duration": 6,
    "start_time": "2023-09-23T07:53:47.322Z"
   },
   {
    "duration": 131,
    "start_time": "2023-09-23T07:53:47.347Z"
   },
   {
    "duration": 6,
    "start_time": "2023-09-23T07:53:47.479Z"
   },
   {
    "duration": 315,
    "start_time": "2023-09-23T07:53:47.486Z"
   },
   {
    "duration": 14,
    "start_time": "2023-09-23T07:53:47.804Z"
   },
   {
    "duration": 3,
    "start_time": "2023-09-23T07:53:47.819Z"
   },
   {
    "duration": 20,
    "start_time": "2023-09-23T07:53:47.824Z"
   },
   {
    "duration": 9,
    "start_time": "2023-09-23T07:53:47.845Z"
   },
   {
    "duration": 32985,
    "start_time": "2023-09-23T07:53:47.855Z"
   },
   {
    "duration": 5,
    "start_time": "2023-09-23T07:54:20.842Z"
   },
   {
    "duration": 18,
    "start_time": "2023-09-23T07:54:20.848Z"
   },
   {
    "duration": 4,
    "start_time": "2023-09-23T07:54:20.868Z"
   },
   {
    "duration": 7,
    "start_time": "2023-09-23T07:54:20.873Z"
   },
   {
    "duration": 4,
    "start_time": "2023-09-23T07:54:20.882Z"
   },
   {
    "duration": 221,
    "start_time": "2023-09-23T07:54:20.888Z"
   },
   {
    "duration": 4,
    "start_time": "2023-09-23T07:54:21.110Z"
   },
   {
    "duration": 13,
    "start_time": "2023-09-23T07:54:21.116Z"
   },
   {
    "duration": 17,
    "start_time": "2023-09-23T07:54:21.131Z"
   },
   {
    "duration": 14,
    "start_time": "2023-09-23T07:54:21.149Z"
   },
   {
    "duration": 6,
    "start_time": "2023-09-23T07:54:21.165Z"
   },
   {
    "duration": 5,
    "start_time": "2023-09-23T07:54:21.172Z"
   },
   {
    "duration": 5,
    "start_time": "2023-09-23T07:54:21.178Z"
   },
   {
    "duration": 7,
    "start_time": "2023-09-23T07:54:21.185Z"
   },
   {
    "duration": 5,
    "start_time": "2023-09-23T07:54:21.194Z"
   },
   {
    "duration": 9,
    "start_time": "2023-09-23T07:54:21.200Z"
   },
   {
    "duration": 4442,
    "start_time": "2023-09-23T07:54:21.211Z"
   },
   {
    "duration": 1594,
    "start_time": "2023-09-23T07:54:25.656Z"
   },
   {
    "duration": 380,
    "start_time": "2023-09-23T07:54:27.255Z"
   },
   {
    "duration": 4,
    "start_time": "2023-09-23T07:55:05.817Z"
   },
   {
    "duration": 20,
    "start_time": "2023-09-23T07:55:05.824Z"
   },
   {
    "duration": 15,
    "start_time": "2023-09-23T07:55:05.847Z"
   },
   {
    "duration": 952,
    "start_time": "2023-09-23T07:55:05.864Z"
   },
   {
    "duration": 3,
    "start_time": "2023-09-23T07:55:06.818Z"
   },
   {
    "duration": 31,
    "start_time": "2023-09-23T07:55:06.823Z"
   },
   {
    "duration": 19,
    "start_time": "2023-09-23T07:55:06.857Z"
   },
   {
    "duration": 4,
    "start_time": "2023-09-23T07:55:06.878Z"
   },
   {
    "duration": 17,
    "start_time": "2023-09-23T07:55:06.883Z"
   },
   {
    "duration": 10,
    "start_time": "2023-09-23T07:55:06.901Z"
   },
   {
    "duration": 135,
    "start_time": "2023-09-23T07:55:06.914Z"
   },
   {
    "duration": 6,
    "start_time": "2023-09-23T07:55:07.051Z"
   },
   {
    "duration": 14,
    "start_time": "2023-09-23T07:55:07.058Z"
   },
   {
    "duration": 18,
    "start_time": "2023-09-23T07:55:07.074Z"
   },
   {
    "duration": 5,
    "start_time": "2023-09-23T07:55:07.094Z"
   },
   {
    "duration": 5,
    "start_time": "2023-09-23T07:55:07.101Z"
   },
   {
    "duration": 8,
    "start_time": "2023-09-23T07:55:07.108Z"
   },
   {
    "duration": 31461,
    "start_time": "2023-09-23T07:55:07.118Z"
   },
   {
    "duration": 2,
    "start_time": "2023-09-23T07:55:38.582Z"
   },
   {
    "duration": 16,
    "start_time": "2023-09-23T07:55:38.586Z"
   },
   {
    "duration": 19,
    "start_time": "2023-09-23T07:55:38.604Z"
   },
   {
    "duration": 18,
    "start_time": "2023-09-23T07:55:38.625Z"
   },
   {
    "duration": 7,
    "start_time": "2023-09-23T07:55:38.645Z"
   },
   {
    "duration": 198,
    "start_time": "2023-09-23T07:55:38.653Z"
   },
   {
    "duration": 4,
    "start_time": "2023-09-23T07:55:38.853Z"
   },
   {
    "duration": 4,
    "start_time": "2023-09-23T07:55:38.858Z"
   },
   {
    "duration": 4,
    "start_time": "2023-09-23T07:55:38.864Z"
   },
   {
    "duration": 5,
    "start_time": "2023-09-23T07:55:38.870Z"
   },
   {
    "duration": 2,
    "start_time": "2023-09-23T07:55:38.880Z"
   },
   {
    "duration": 5,
    "start_time": "2023-09-23T07:55:38.884Z"
   },
   {
    "duration": 18,
    "start_time": "2023-09-23T07:55:38.890Z"
   },
   {
    "duration": 9,
    "start_time": "2023-09-23T07:55:38.910Z"
   },
   {
    "duration": 4,
    "start_time": "2023-09-23T07:55:38.921Z"
   },
   {
    "duration": 3,
    "start_time": "2023-09-23T07:55:38.948Z"
   },
   {
    "duration": 27495,
    "start_time": "2023-09-23T07:55:38.952Z"
   },
   {
    "duration": 1697,
    "start_time": "2023-09-23T07:56:06.450Z"
   },
   {
    "duration": 152,
    "start_time": "2023-09-23T07:56:08.149Z"
   },
   {
    "duration": 9,
    "start_time": "2023-09-23T07:56:50.400Z"
   },
   {
    "duration": 5,
    "start_time": "2023-09-23T07:57:01.811Z"
   },
   {
    "duration": 5,
    "start_time": "2023-09-23T07:57:13.015Z"
   },
   {
    "duration": 3,
    "start_time": "2023-09-23T07:57:47.094Z"
   },
   {
    "duration": 5,
    "start_time": "2023-09-23T07:57:49.332Z"
   },
   {
    "duration": 6,
    "start_time": "2023-09-23T07:58:14.101Z"
   },
   {
    "duration": 68,
    "start_time": "2023-09-23T07:58:19.386Z"
   },
   {
    "duration": 6,
    "start_time": "2023-09-23T07:58:20.213Z"
   },
   {
    "duration": 2854,
    "start_time": "2023-09-23T07:59:19.374Z"
   },
   {
    "duration": 27,
    "start_time": "2023-09-23T07:59:22.232Z"
   },
   {
    "duration": 2,
    "start_time": "2023-09-23T07:59:22.261Z"
   },
   {
    "duration": 942,
    "start_time": "2023-09-23T07:59:22.265Z"
   },
   {
    "duration": 2,
    "start_time": "2023-09-23T07:59:23.209Z"
   },
   {
    "duration": 24,
    "start_time": "2023-09-23T07:59:23.213Z"
   },
   {
    "duration": 73,
    "start_time": "2023-09-23T07:59:23.239Z"
   },
   {
    "duration": 13,
    "start_time": "2023-09-23T07:59:23.314Z"
   },
   {
    "duration": 74,
    "start_time": "2023-09-23T07:59:23.329Z"
   },
   {
    "duration": 17,
    "start_time": "2023-09-23T07:59:23.406Z"
   },
   {
    "duration": 133,
    "start_time": "2023-09-23T07:59:23.425Z"
   },
   {
    "duration": 31,
    "start_time": "2023-09-23T07:59:23.560Z"
   },
   {
    "duration": 264,
    "start_time": "2023-09-23T07:59:23.592Z"
   },
   {
    "duration": 13,
    "start_time": "2023-09-23T07:59:23.858Z"
   },
   {
    "duration": 16,
    "start_time": "2023-09-23T07:59:23.873Z"
   },
   {
    "duration": 17,
    "start_time": "2023-09-23T07:59:23.891Z"
   },
   {
    "duration": 9,
    "start_time": "2023-09-23T07:59:23.910Z"
   },
   {
    "duration": 1258366,
    "start_time": "2023-09-23T07:59:23.921Z"
   },
   {
    "duration": 3,
    "start_time": "2023-09-23T08:20:22.289Z"
   },
   {
    "duration": 72,
    "start_time": "2023-09-23T08:20:22.293Z"
   },
   {
    "duration": 20,
    "start_time": "2023-09-23T08:20:22.367Z"
   },
   {
    "duration": 100,
    "start_time": "2023-09-23T08:20:22.388Z"
   },
   {
    "duration": 4,
    "start_time": "2023-09-23T08:20:22.490Z"
   },
   {
    "duration": 7443,
    "start_time": "2023-09-23T08:20:22.496Z"
   },
   {
    "duration": 7,
    "start_time": "2023-09-23T08:20:29.941Z"
   },
   {
    "duration": 19,
    "start_time": "2023-09-23T08:20:29.950Z"
   },
   {
    "duration": 22,
    "start_time": "2023-09-23T08:20:29.971Z"
   },
   {
    "duration": 22,
    "start_time": "2023-09-23T08:20:29.996Z"
   },
   {
    "duration": 61,
    "start_time": "2023-09-23T08:20:30.020Z"
   },
   {
    "duration": 63,
    "start_time": "2023-09-23T08:20:30.083Z"
   },
   {
    "duration": 27,
    "start_time": "2023-09-23T08:20:30.148Z"
   },
   {
    "duration": 27,
    "start_time": "2023-09-23T08:20:30.176Z"
   },
   {
    "duration": 41,
    "start_time": "2023-09-23T08:20:30.205Z"
   },
   {
    "duration": 43,
    "start_time": "2023-09-23T08:20:30.247Z"
   },
   {
    "duration": 155806,
    "start_time": "2023-09-23T08:20:30.292Z"
   },
   {
    "duration": 3,
    "start_time": "2023-09-23T08:23:06.100Z"
   },
   {
    "duration": 13,
    "start_time": "2023-09-23T08:23:06.105Z"
   },
   {
    "duration": 255959,
    "start_time": "2023-09-23T08:23:06.122Z"
   },
   {
    "duration": 6,
    "start_time": "2023-09-23T08:27:22.083Z"
   },
   {
    "duration": 142579,
    "start_time": "2023-09-23T08:27:22.092Z"
   },
   {
    "duration": 4,
    "start_time": "2023-09-23T08:29:44.673Z"
   },
   {
    "duration": 13,
    "start_time": "2023-09-23T08:29:44.678Z"
   },
   {
    "duration": 26373,
    "start_time": "2023-09-23T08:29:44.695Z"
   },
   {
    "duration": 19,
    "start_time": "2023-09-23T08:30:11.070Z"
   },
   {
    "duration": 4901,
    "start_time": "2023-09-23T08:30:11.092Z"
   },
   {
    "duration": 287,
    "start_time": "2023-09-23T08:30:15.995Z"
   },
   {
    "duration": 55820,
    "start_time": "2023-09-23T08:30:16.285Z"
   },
   {
    "duration": 379,
    "start_time": "2023-09-23T08:31:12.108Z"
   },
   {
    "duration": 30,
    "start_time": "2023-09-23T08:31:12.489Z"
   },
   {
    "duration": 32,
    "start_time": "2023-09-23T08:31:12.520Z"
   }
  ],
  "kernelspec": {
   "display_name": "Python 3 (ipykernel)",
   "language": "python",
   "name": "python3"
  },
  "language_info": {
   "codemirror_mode": {
    "name": "ipython",
    "version": 3
   },
   "file_extension": ".py",
   "mimetype": "text/x-python",
   "name": "python",
   "nbconvert_exporter": "python",
   "pygments_lexer": "ipython3",
   "version": "3.9.5"
  },
  "toc": {
   "base_numbering": 1,
   "nav_menu": {},
   "number_sections": true,
   "sideBar": true,
   "skip_h1_title": true,
   "title_cell": "Содержание",
   "title_sidebar": "Contents",
   "toc_cell": true,
   "toc_position": {
    "height": "calc(100% - 180px)",
    "left": "10px",
    "top": "150px",
    "width": "302.391px"
   },
   "toc_section_display": true,
   "toc_window_display": true
  }
 },
 "nbformat": 4,
 "nbformat_minor": 2
}
